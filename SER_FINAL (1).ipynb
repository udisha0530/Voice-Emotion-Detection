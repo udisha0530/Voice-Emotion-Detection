{
 "cells": [
  {
   "cell_type": "markdown",
   "id": "66dd36b3-e847-4a51-8d5b-db21505645d3",
   "metadata": {},
   "source": [
    "# SPEECH EMOTION DETECTION\n",
    "Speech Emotion Detection (SED) is the task of automatically recognizing and classifying emotions conveyed through speech signals. It involves the use of techniques from signal processing, machine learning, and natural language processing (NLP) to analyze vocal cues and identify the emotional state of a speaker.\r\n",
    "\r\n",
    "### Key Aspects of Speech Emotion Detection:\r\n",
    "\r\n",
    "- **Signal Processing**: Techniques such as feature extraction from audio signals (e.g., MFCC - Mel Frequency Cepstral Coefficients) to capture relevant characteristics related to pitch, intensity, and spectral content that correlate with emotions.\r\n",
    "\r\n",
    "- **Feature Engineering**: Selection and transformation of acoustic features that are relevant for distinguishing different emotional states.\r\n",
    "\r\n",
    "- **Machine Learning and Deep Learning**: Utilization of various models and algorithms, including traditional machine learning methods (e.g., Support Vector Machines, Random Forests) and deep learning architectures (e.g., Convolutional Neural Networks, Recurrent Neural Networks like LSTM), to classify emotions based on extracted features.\r\n",
    "\r\n",
    "- **Emotion Classification**: Assigning one or multiple predefined emotion labels (e.g., happiness, sadness, anger, neutrality) to audio segments based on the analysis of extracted features and model pr\n",
    "future directions.\r\n",
    "edictions.\r\n"
   ]
  },
  {
   "cell_type": "markdown",
   "id": "86a9b89c-5976-4e93-96e6-5258ef696328",
   "metadata": {},
   "source": [
    "### RAVDESS Dataset Description\r\n",
    "\r\n",
    "The RAVDESS dataset contains 1440 audio files, structured as follows: 60 trials per actor multiplied by 24 actors, resulting in 1440 files. The dataset comprises recordings from 24 professional actors (12 female and 12 male), each vocalizing two lexically-matched statements in a neutral North American accent. The speech emotions included are calm, happy, sad, angry, fearful, surprise, and disgust, with each emotion expressed at two levels of emotional intensity (normal and strong), along with an additional neutral expression.\r\n",
    "\r\n",
    "#### File Naming Convention\r\n",
    "\r\n",
    "Each file in the dataset has a unique filename format: `03-01-06-01-02-01-12.wav`. Here's the breakdown of the filename identifiers:\r\n",
    "\r\n",
    "- **Modality**: `01` for full-AV (audiovisual), `02` for video-only, `03` for audio-only.\r\n",
    "- **Vocal Channel**: `01` for speech, `02` for song.\r\n",
    "- **Emotion**: \r\n",
    "  - `01` = neutral\r\n",
    "  - `02` = calm\r\n",
    "  - `03` = happy\r\n",
    "  - `04` = sad\r\n",
    "  - `05` = angry\r\n",
    "  - `06` = fearful\r\n",
    "  - `07` = disgust\r\n",
    "  - `08` = surprised\r\n",
    "- **Emotional Intensity**: `01` for normal, `02` for strong (Note: 'neutral' emotion has no strong intensity).\r\n",
    "- **Statement**: \r\n",
    "  - `01` = \"Kids are talking by the door\"\r\n",
    "  - `02` = \"Dogs are sitting by the door\"\r\n",
    "- **Repetition**: `01` for 1st repetition, `02` for 2nd repetition.\r\n",
    "- **Actor**: `01` to `24`. Odd-numbered actors are male, and even-numbered actors are female.\r\n",
    "\r\n",
    "#### Filename Example: `03-01-06-01-02-01-12.wav`\r\n",
    "\r\n",
    "- **Audio-only (03)**\r\n",
    "- **Speech (01)**\r\n",
    "- **Fearful (06)**\r\n",
    "- **Normal intensity (01)**\r\n",
    "- **Statement \"dogs\" (02)**\r\n",
    "- **1st Repetition (01)**\r\n",
    "- **12th Actor (12)** (Female, as the actor ID number is even)\r\n"
   ]
  },
  {
   "cell_type": "code",
   "execution_count": 92,
   "id": "6ce0fa5b-a908-4486-80c7-c07e46d98354",
   "metadata": {},
   "outputs": [],
   "source": [
    "# Define the path to your RAVDESS dataset\n",
    "DATASET_PATH = r'C:\\games\\audio'\n"
   ]
  },
  {
   "cell_type": "markdown",
   "id": "4a0f0509-02a2-44f9-8250-51518278af97",
   "metadata": {},
   "source": [
    "## DATA PREPROCESSING\r\n",
    "ing.\r\n",
    "\r\n",
    "### Function to Load an Audio File\r\n",
    "\r\n",
    "The `load_audio` function loads an audio file from the specified `file_path` and returns the audio waveform and its sample rate (`sr`). It utilizes the `librosa` library for audio loading and handles exceptions if the file loading fails.\r\n",
    "\r\n",
    "### Function to Extract MFCC Features\r\n",
    "\r\n",
    "The `extract_mfcc` function extracts Mel-Frequency Cepstral Coefficients (MFCC) features from the audio data. MFCCs are commonly used in speech and audio processing to capture the spectral characteristics of sound. This function computes the MFCCs and returns their mean values across time (`axis=0`).\r\n",
    "\r\n",
    "### Dummy Function to Extract Label from Filename\r\n",
    "\r\n",
    "The `extract_label_from_filename` function extracts the emotional label from a given filename based on predefined mappings (`emotion_dict`). It parses the filename and retrieves the emotion label using the third part of the filename (which corresponds to the emotion identifier).\r\n",
    "\r\n",
    "#### Emotion Dictionary:\r\n",
    "- `'01': 'neutral'`\r\n",
    "- `'02': 'calm'`\r\n",
    "- `'03': 'happy'`\r\n",
    "- `'04': 'sad'`\r\n",
    "- `'05': 'angry'`\r\n",
    "- `'06': 'fearful'`\r\n",
    "- `'07': 'disgust'`\r\n",
    "- `'08': 'surprised'`\r\n",
    "\r\n",
    "This function is used to map numeric identifiers from filenames to human-readable emotional labels, facilitating the labeling of audio data during the processing pipeline.\r\n",
    "\r\n",
    "g the processing pipeline.\r\n",
    "\r\n",
    "coder`.\r\n"
   ]
  },
  {
   "cell_type": "code",
   "execution_count": null,
   "id": "6810c70c-3f17-4f3a-8789-8bd848ba0cb4",
   "metadata": {},
   "outputs": [],
   "source": [
    "# Define the path to your RAVDESS dataset\n",
    "\n",
    "\n",
    "# Function to load an audio file\n",
    "def load_audio(file_path, sr=22050):\n",
    "    try:\n",
    "        audio, sample_rate = librosa.load(file_path, sr=sr)\n",
    "        return audio, sample_rate\n",
    "    except Exception as e:\n",
    "        print(f\"Error loading {file_path}: {e}\")\n",
    "        return None, None\n",
    "\n",
    "# Function to extract MFCC features\n",
    "def extract_mfcc(audio, sr, n_mfcc=40):\n",
    "    mfccs = np.mean(librosa.feature.mfcc(y=audio, sr=sr, n_mfcc=n_mfcc).T, axis=0)\n",
    "    return mfccs\n",
    "\n",
    "# Dummy function to extract label from filename\n",
    "def extract_label_from_filename(file_name):\n",
    "    emotion_dict = {\n",
    "        '01': 'neutral', '02': 'calm', '03': 'happy', '04': 'sad',\n",
    "        '05': 'angry', '06': 'fearful', '07': 'disgust', '08': 'surprised'\n",
    "    }\n",
    "    parts = file_name.split('-')\n",
    "    emotion_label = emotion_dict[parts[2]]\n",
    "    return emotion_label\n"
   ]
  },
  {
   "cell_type": "markdown",
   "id": "46240c96-c06b-4169-841b-19b0769faa72",
   "metadata": {},
   "source": [
    "## Loading and Processing Audio Dataset\n",
    "### Iterating Through Audio Files\n",
    "The code iterates through all `.wav` files located in the `DATASET_PATH` directory and its subdirectories using `os.walk`.\n",
    "### Extracting Features and Labels\n",
    "For each audio file:\n",
    "- **Label Extraction**: The label is extracted from the filename (`filename[7:8] - 1`). This assumes the label information is encoded in a specific position within the filename.  \n",
    "- **Loading Audio**: The `load_audio` function is called to load the audio file and obtain the audio waveform (`audio`) and its sampling rate (`sr`).\n",
    "- **Extracting MFCC Features**: If the audio loading is successful (`audio` is not `None`), the `extract_mfcc` function extracts Mel-Frequency Cepstral Coefficients (MFCC) features from the audio.\n",
    "- **Appending Features and Labels**: Extracted MFCC features (`mfcc_features`) and their corresponding labels (`label`) are appended to lists `X` and `y`, respectively.\n",
    "\n",
    "### Handling Errors\n",
    "\n",
    "- **Exception Handling**: If there is an error during any step (e.g., loading audio, extracting features), an error message is printed, and the file is skipped (`except Exception as e`).\n",
    "\n",
    "### Final Dataset Preparation\n",
    "\n",
    "- **Conversion to Numpy Arrays**: After processing all audio files, lists `X` and `y` are converted into NumPy arrays (`np.array(X)` and `np.array(y)`).\n",
    "\n"
   ]
  },
  {
   "cell_type": "code",
   "execution_count": 37,
   "id": "358a2d96-be6c-4cec-9140-a453d665180c",
   "metadata": {},
   "outputs": [
    {
     "name": "stdout",
     "output_type": "stream",
     "text": [
      "Finish Loading the Dataset\n",
      "X shape: (2880, 40)\n",
      "y shape: (2880,)\n"
     ]
    }
   ],
   "source": [
    "X=[]\n",
    "y=[]\n",
    "for dirname, _, filenames in os.walk(DATASET_PATH):\n",
    "    for filename in filenames:\n",
    "        if filename.endswith('.wav'):\n",
    "            try:\n",
    "                label = int(filename[7:8]) - 1  # Extract label from filename\n",
    "                wav_file_path = os.path.join(dirname, filename)\n",
    "                audio, sr = load_audio(wav_file_path)  # Load audio file\n",
    "                if audio is not None:\n",
    "                    mfcc_features = extract_mfcc(audio, sr)  # Extract MFCC features\n",
    "                    if mfcc_features is not None:\n",
    "                        X.append(mfcc_features)\n",
    "                        y.append(label)\n",
    "            except Exception as e:\n",
    "                print(f\"Error processing {filename}: {e}\")\n",
    "\n",
    "X = np.array(X)\n",
    "y = np.array(y)\n",
    "\n",
    "print(\"Finish Loading the Dataset\")\n",
    "print(\"X shape:\", X.shape)\n",
    "print(\"y shape:\", y.shape)"
   ]
  },
  {
   "cell_type": "code",
   "execution_count": 4,
   "id": "3262162d-2945-4c0a-8c22-533ad367ccf0",
   "metadata": {},
   "outputs": [
    {
     "data": {
      "text/plain": [
       "array([0, 0, 0, ..., 7, 7, 7])"
      ]
     },
     "execution_count": 4,
     "metadata": {},
     "output_type": "execute_result"
    }
   ],
   "source": [
    "y"
   ]
  },
  {
   "cell_type": "code",
   "execution_count": 5,
   "id": "3730f074-a59d-476d-88ca-1ab2695e38b2",
   "metadata": {},
   "outputs": [
    {
     "data": {
      "text/plain": [
       "array([[-6.9779260e+02,  5.4890041e+01,  6.6346520e-01, ...,\n",
       "        -1.7701062e+00, -3.5011320e+00, -1.5380874e+00],\n",
       "       [-6.9285577e+02,  5.5363899e+01, -1.5483192e+00, ...,\n",
       "        -3.0869722e+00, -3.2097483e+00, -2.3071594e+00],\n",
       "       [-6.9158789e+02,  5.8024662e+01,  1.5946463e-01, ...,\n",
       "        -2.7295372e+00, -3.5089064e+00, -2.2463746e+00],\n",
       "       ...,\n",
       "       [-5.4125165e+02,  2.9595709e+01, -1.8001362e+01, ...,\n",
       "        -3.8906682e-01, -9.7194743e-01, -3.9210208e-03],\n",
       "       [-4.9265253e+02,  2.3887981e+01, -6.0266590e+00, ...,\n",
       "         9.1637713e-01, -1.4326899e+00,  1.4300117e+00],\n",
       "       [-5.1798480e+02,  2.9571215e+01, -3.9096990e+00, ...,\n",
       "        -1.2455600e-01, -1.8519229e+00,  7.0855033e-01]], dtype=float32)"
      ]
     },
     "execution_count": 5,
     "metadata": {},
     "output_type": "execute_result"
    }
   ],
   "source": [
    "X"
   ]
  },
  {
   "cell_type": "code",
   "execution_count": 96,
   "id": "e345782b-935d-46d3-9a52-88cdcb3ed44c",
   "metadata": {},
   "outputs": [
    {
     "name": "stdout",
     "output_type": "stream",
     "text": [
      "[0 0 0 ... 7 7 7]\n",
      "[[1. 0. 0. ... 0. 0. 0.]\n",
      " [1. 0. 0. ... 0. 0. 0.]\n",
      " [1. 0. 0. ... 0. 0. 0.]\n",
      " ...\n",
      " [0. 0. 0. ... 0. 0. 1.]\n",
      " [0. 0. 0. ... 0. 0. 1.]\n",
      " [0. 0. 0. ... 0. 0. 1.]]\n"
     ]
    }
   ],
   "source": [
    "### Label Encoding\n",
    "label_encoder = LabelEncoder()\n",
    "y_encoded = label_encoder.fit_transform(y)\n",
    "print(y_encoded)\n",
    "##One_hot encoding\n",
    "y_cat=to_categorical (y_encoded)\n",
    "print(y_cat)"
   ]
  },
  {
   "cell_type": "markdown",
   "id": "c09420cf-a9a1-464e-969b-ebfcc3d828ae",
   "metadata": {},
   "source": [
    "## Train-Test Split"
   ]
  },
  {
   "cell_type": "code",
   "execution_count": 40,
   "id": "d25650c5-5681-4a24-ab42-380bb19f82a8",
   "metadata": {},
   "outputs": [
    {
     "name": "stdout",
     "output_type": "stream",
     "text": [
      "Training set size: 2304 samples\n",
      "Testing set size: 576 samples\n",
      "X_train shape: (2304, 40)\n",
      "X_test shape: (576, 40)\n"
     ]
    }
   ],
   "source": [
    "\n",
    "X_train, X_test, y_train, y_test = train_test_split(X, y_cat, test_size=0.2, random_state=9)\n",
    "\n",
    "# Print shapes to verify\n",
    "print(f\"Training set size: {X_train.shape[0]} samples\")\n",
    "print(f\"Testing set size: {X_test.shape[0]} samples\")\n",
    "print(f\"X_train shape: {X_train.shape}\")\n",
    "print(f\"X_test shape: {X_test.shape}\")\n"
   ]
  },
  {
   "cell_type": "code",
   "execution_count": 13,
   "id": "498fc255-2b1c-4ff8-afdf-7f5b8998dd16",
   "metadata": {},
   "outputs": [],
   "source": [
    "X_train = X_train[..., np.newaxis]\n",
    "X_test=X_test[...,np.newaxis]"
   ]
  },
  {
   "cell_type": "markdown",
   "id": "69089f82-0783-441b-9800-01dbb591fa75",
   "metadata": {},
   "source": [
    "# Conv1D Model for Emotion Recognition\n",
    "\n",
    "### Model Architecture\n",
    "\n",
    "The Conv1D model is designed to classify emotions based on audio features extracted using Mel-Frequency Cepstral Coefficients (MFCCs). The architecture consists of:\n",
    "\n",
    "- **Conv1D Layer**: The first layer has 64 filters with a kernel size of 3 and uses the ReLU activation function. It takes input with a shape corresponding to the MFCC feature dimensions.\n",
    "- **MaxPooling1D Layer**: This layer with a pool size of 2 reduces the dimensionality of the feature maps.\n",
    "- **Dropout Layer**: A dropout rate of 0.3 is used to prevent overfitting.\n",
    "- **Conv1D Layer**: The second Conv1D layer has 128 filters with a kernel size of 3 and uses the ReLU activation function.\n",
    "- **MaxPooling1D Layer**: Another pooling layer with a pool size of 2.\n",
    "- **Dropout Layer**: Another dropout layer with a rate of 0.3.\n",
    "- **Flatten Layer**: Flattens the feature maps into a single vector.\n",
    "- **Dense Layer**: A dense layer with 128 units and ReLU activation.\n",
    "- **Dropout Layer**: Dropout with a rate of 0.3.\n",
    "- **Output Layer**: A dense layer with a number of units equal to the number of emotion classes, using the softmax activation function to output probability distributions for each class.\n",
    "\n",
    "### Model Compilation\n",
    "\n",
    "The model is compiled using the Adam optimizer and categorical cross-entropy loss function, which is suitable for multi-class classification problems. The performance metric used is accuracy."
   ]
  },
  {
   "cell_type": "code",
   "execution_count": 72,
   "id": "04b67f11-b07f-42f9-9f23-73eb9b66ddfd",
   "metadata": {},
   "outputs": [
    {
     "name": "stderr",
     "output_type": "stream",
     "text": [
      "C:\\Users\\KIIT\\anaconda3\\Lib\\site-packages\\keras\\src\\layers\\convolutional\\base_conv.py:107: UserWarning: Do not pass an `input_shape`/`input_dim` argument to a layer. When using Sequential models, prefer using an `Input(shape)` object as the first layer in the model instead.\n",
      "  super().__init__(activity_regularizer=activity_regularizer, **kwargs)\n"
     ]
    }
   ],
   "source": [
    "\n",
    "model = Sequential([\n",
    "    Conv1D(64, kernel_size=3, activation='relu', input_shape=(X.shape[1], 1)),\n",
    "    MaxPooling1D(pool_size=2),\n",
    "    Dropout(0.3),\n",
    "    Conv1D(128, kernel_size=3, activation='relu'),\n",
    "    MaxPooling1D(pool_size=2),\n",
    "    Dropout(0.3),\n",
    "    Flatten(),\n",
    "    Dense(128, activation='relu'),\n",
    "    Dropout(0.3),\n",
    "    Dense(len(label_encoder.classes_), activation='softmax')\n",
    "])\n",
    "\n",
    "# Compile the model\n",
    "model.compile(optimizer='adam', loss='categorical_crossentropy', metrics=['accuracy'])\n",
    "\n",
    "\n"
   ]
  },
  {
   "cell_type": "markdown",
   "id": "3d38d1f3-80a9-4343-af19-afcd416c0017",
   "metadata": {},
   "source": [
    "### Adding Channel Dimension for Conv1D\r\n",
    "\r\n",
    "In Conv1D neural networks, adding an additional channel dimension (`np.newaxis`) to input data like MFCC features (`X_train` and `X_test`) is essential. This adjustment ensures compatibility with Conv1D layers, which expect input shapes in the form `(batch_size, sequence_length, num_channels)`. The channel dimension allows Conv1D to effectively apply filters across the temporal dimension of the data, facilitating feature extraction and learning temporal patterns.\r\n"
   ]
  },
  {
   "cell_type": "code",
   "execution_count": null,
   "id": "19484b99-108b-4a2f-8606-85eb8effeb41",
   "metadata": {},
   "outputs": [],
   "source": [
    "X_train = X_train[..., np.newaxis]\n",
    "X_test=X_test[...,np.newaxis]"
   ]
  },
  {
   "cell_type": "markdown",
   "id": "9d45be4e-fb81-4331-b40b-357490e9c6c5",
   "metadata": {},
   "source": [
    "### Training the Model\n",
    "\n",
    "The model is trained using the training data (`X_train` and `y_train`). The training process involves:\n",
    "\n",
    "- **Epochs**: The model is trained for 100 epochs.\n",
    "- **Batch Size**: A batch size of 32 is used for each training step.\n",
    "- **Validation Data**: The model's performance is validated on the validation set (`X_test` and `y_test`) during training to monitor and evaluate its accuracy and loss.\n"
   ]
  },
  {
   "cell_type": "code",
   "execution_count": 74,
   "id": "aee62dc0-cf5b-47b6-ab28-029e63ae9f21",
   "metadata": {},
   "outputs": [
    {
     "name": "stdout",
     "output_type": "stream",
     "text": [
      "Epoch 1/100\n",
      "\u001b[1m72/72\u001b[0m \u001b[32m━━━━━━━━━━━━━━━━━━━━\u001b[0m\u001b[37m\u001b[0m \u001b[1m4s\u001b[0m 8ms/step - accuracy: 0.1157 - loss: 7.4988 - val_accuracy: 0.1441 - val_loss: 2.0782\n",
      "Epoch 2/100\n",
      "\u001b[1m72/72\u001b[0m \u001b[32m━━━━━━━━━━━━━━━━━━━━\u001b[0m\u001b[37m\u001b[0m \u001b[1m1s\u001b[0m 7ms/step - accuracy: 0.1531 - loss: 2.1160 - val_accuracy: 0.1441 - val_loss: 2.0756\n",
      "Epoch 3/100\n",
      "\u001b[1m72/72\u001b[0m \u001b[32m━━━━━━━━━━━━━━━━━━━━\u001b[0m\u001b[37m\u001b[0m \u001b[1m0s\u001b[0m 6ms/step - accuracy: 0.1892 - loss: 2.0787 - val_accuracy: 0.1181 - val_loss: 2.0707\n",
      "Epoch 4/100\n",
      "\u001b[1m72/72\u001b[0m \u001b[32m━━━━━━━━━━━━━━━━━━━━\u001b[0m\u001b[37m\u001b[0m \u001b[1m0s\u001b[0m 6ms/step - accuracy: 0.1655 - loss: 2.0423 - val_accuracy: 0.1910 - val_loss: 1.9951\n",
      "Epoch 5/100\n",
      "\u001b[1m72/72\u001b[0m \u001b[32m━━━━━━━━━━━━━━━━━━━━\u001b[0m\u001b[37m\u001b[0m \u001b[1m1s\u001b[0m 7ms/step - accuracy: 0.1787 - loss: 2.0074 - val_accuracy: 0.1823 - val_loss: 1.9416\n",
      "Epoch 6/100\n",
      "\u001b[1m72/72\u001b[0m \u001b[32m━━━━━━━━━━━━━━━━━━━━\u001b[0m\u001b[37m\u001b[0m \u001b[1m1s\u001b[0m 7ms/step - accuracy: 0.1839 - loss: 1.9711 - val_accuracy: 0.1979 - val_loss: 1.9443\n",
      "Epoch 7/100\n",
      "\u001b[1m72/72\u001b[0m \u001b[32m━━━━━━━━━━━━━━━━━━━━\u001b[0m\u001b[37m\u001b[0m \u001b[1m0s\u001b[0m 7ms/step - accuracy: 0.1942 - loss: 1.9733 - val_accuracy: 0.2153 - val_loss: 1.9185\n",
      "Epoch 8/100\n",
      "\u001b[1m72/72\u001b[0m \u001b[32m━━━━━━━━━━━━━━━━━━━━\u001b[0m\u001b[37m\u001b[0m \u001b[1m1s\u001b[0m 7ms/step - accuracy: 0.1962 - loss: 1.9873 - val_accuracy: 0.2378 - val_loss: 1.8989\n",
      "Epoch 9/100\n",
      "\u001b[1m72/72\u001b[0m \u001b[32m━━━━━━━━━━━━━━━━━━━━\u001b[0m\u001b[37m\u001b[0m \u001b[1m1s\u001b[0m 7ms/step - accuracy: 0.2008 - loss: 1.9777 - val_accuracy: 0.2674 - val_loss: 1.8965\n",
      "Epoch 10/100\n",
      "\u001b[1m72/72\u001b[0m \u001b[32m━━━━━━━━━━━━━━━━━━━━\u001b[0m\u001b[37m\u001b[0m \u001b[1m1s\u001b[0m 7ms/step - accuracy: 0.2237 - loss: 1.9245 - val_accuracy: 0.3125 - val_loss: 1.8432\n",
      "Epoch 11/100\n",
      "\u001b[1m72/72\u001b[0m \u001b[32m━━━━━━━━━━━━━━━━━━━━\u001b[0m\u001b[37m\u001b[0m \u001b[1m1s\u001b[0m 7ms/step - accuracy: 0.2363 - loss: 1.9118 - val_accuracy: 0.3351 - val_loss: 1.8177\n",
      "Epoch 12/100\n",
      "\u001b[1m72/72\u001b[0m \u001b[32m━━━━━━━━━━━━━━━━━━━━\u001b[0m\u001b[37m\u001b[0m \u001b[1m0s\u001b[0m 6ms/step - accuracy: 0.2540 - loss: 1.8811 - val_accuracy: 0.3299 - val_loss: 1.8050\n",
      "Epoch 13/100\n",
      "\u001b[1m72/72\u001b[0m \u001b[32m━━━━━━━━━━━━━━━━━━━━\u001b[0m\u001b[37m\u001b[0m \u001b[1m1s\u001b[0m 7ms/step - accuracy: 0.2626 - loss: 1.8602 - val_accuracy: 0.3229 - val_loss: 1.7773\n",
      "Epoch 14/100\n",
      "\u001b[1m72/72\u001b[0m \u001b[32m━━━━━━━━━━━━━━━━━━━━\u001b[0m\u001b[37m\u001b[0m \u001b[1m1s\u001b[0m 7ms/step - accuracy: 0.2709 - loss: 1.8392 - val_accuracy: 0.3542 - val_loss: 1.7595\n",
      "Epoch 15/100\n",
      "\u001b[1m72/72\u001b[0m \u001b[32m━━━━━━━━━━━━━━━━━━━━\u001b[0m\u001b[37m\u001b[0m \u001b[1m1s\u001b[0m 7ms/step - accuracy: 0.2832 - loss: 1.8347 - val_accuracy: 0.3837 - val_loss: 1.6992\n",
      "Epoch 16/100\n",
      "\u001b[1m72/72\u001b[0m \u001b[32m━━━━━━━━━━━━━━━━━━━━\u001b[0m\u001b[37m\u001b[0m \u001b[1m1s\u001b[0m 7ms/step - accuracy: 0.3186 - loss: 1.7459 - val_accuracy: 0.3976 - val_loss: 1.6929\n",
      "Epoch 17/100\n",
      "\u001b[1m72/72\u001b[0m \u001b[32m━━━━━━━━━━━━━━━━━━━━\u001b[0m\u001b[37m\u001b[0m \u001b[1m1s\u001b[0m 7ms/step - accuracy: 0.3391 - loss: 1.7321 - val_accuracy: 0.4115 - val_loss: 1.6606\n",
      "Epoch 18/100\n",
      "\u001b[1m72/72\u001b[0m \u001b[32m━━━━━━━━━━━━━━━━━━━━\u001b[0m\u001b[37m\u001b[0m \u001b[1m1s\u001b[0m 7ms/step - accuracy: 0.3241 - loss: 1.7384 - val_accuracy: 0.3872 - val_loss: 1.6148\n",
      "Epoch 19/100\n",
      "\u001b[1m72/72\u001b[0m \u001b[32m━━━━━━━━━━━━━━━━━━━━\u001b[0m\u001b[37m\u001b[0m \u001b[1m1s\u001b[0m 7ms/step - accuracy: 0.3558 - loss: 1.6897 - val_accuracy: 0.4358 - val_loss: 1.5433\n",
      "Epoch 20/100\n",
      "\u001b[1m72/72\u001b[0m \u001b[32m━━━━━━━━━━━━━━━━━━━━\u001b[0m\u001b[37m\u001b[0m \u001b[1m0s\u001b[0m 6ms/step - accuracy: 0.3464 - loss: 1.6552 - val_accuracy: 0.4358 - val_loss: 1.5463\n",
      "Epoch 21/100\n",
      "\u001b[1m72/72\u001b[0m \u001b[32m━━━━━━━━━━━━━━━━━━━━\u001b[0m\u001b[37m\u001b[0m \u001b[1m1s\u001b[0m 7ms/step - accuracy: 0.3539 - loss: 1.6739 - val_accuracy: 0.4375 - val_loss: 1.5155\n",
      "Epoch 22/100\n",
      "\u001b[1m72/72\u001b[0m \u001b[32m━━━━━━━━━━━━━━━━━━━━\u001b[0m\u001b[37m\u001b[0m \u001b[1m1s\u001b[0m 7ms/step - accuracy: 0.3673 - loss: 1.6462 - val_accuracy: 0.4688 - val_loss: 1.5297\n",
      "Epoch 23/100\n",
      "\u001b[1m72/72\u001b[0m \u001b[32m━━━━━━━━━━━━━━━━━━━━\u001b[0m\u001b[37m\u001b[0m \u001b[1m1s\u001b[0m 7ms/step - accuracy: 0.3828 - loss: 1.6084 - val_accuracy: 0.4809 - val_loss: 1.4706\n",
      "Epoch 24/100\n",
      "\u001b[1m72/72\u001b[0m \u001b[32m━━━━━━━━━━━━━━━━━━━━\u001b[0m\u001b[37m\u001b[0m \u001b[1m1s\u001b[0m 7ms/step - accuracy: 0.4081 - loss: 1.5665 - val_accuracy: 0.4670 - val_loss: 1.4687\n",
      "Epoch 25/100\n",
      "\u001b[1m72/72\u001b[0m \u001b[32m━━━━━━━━━━━━━━━━━━━━\u001b[0m\u001b[37m\u001b[0m \u001b[1m1s\u001b[0m 7ms/step - accuracy: 0.3772 - loss: 1.5951 - val_accuracy: 0.4809 - val_loss: 1.4169\n",
      "Epoch 26/100\n",
      "\u001b[1m72/72\u001b[0m \u001b[32m━━━━━━━━━━━━━━━━━━━━\u001b[0m\u001b[37m\u001b[0m \u001b[1m1s\u001b[0m 7ms/step - accuracy: 0.4141 - loss: 1.5487 - val_accuracy: 0.4844 - val_loss: 1.3917\n",
      "Epoch 27/100\n",
      "\u001b[1m72/72\u001b[0m \u001b[32m━━━━━━━━━━━━━━━━━━━━\u001b[0m\u001b[37m\u001b[0m \u001b[1m1s\u001b[0m 7ms/step - accuracy: 0.4212 - loss: 1.5296 - val_accuracy: 0.5069 - val_loss: 1.3467\n",
      "Epoch 28/100\n",
      "\u001b[1m72/72\u001b[0m \u001b[32m━━━━━━━━━━━━━━━━━━━━\u001b[0m\u001b[37m\u001b[0m \u001b[1m1s\u001b[0m 7ms/step - accuracy: 0.4191 - loss: 1.4857 - val_accuracy: 0.5347 - val_loss: 1.3098\n",
      "Epoch 29/100\n",
      "\u001b[1m72/72\u001b[0m \u001b[32m━━━━━━━━━━━━━━━━━━━━\u001b[0m\u001b[37m\u001b[0m \u001b[1m1s\u001b[0m 7ms/step - accuracy: 0.4203 - loss: 1.4929 - val_accuracy: 0.5278 - val_loss: 1.2994\n",
      "Epoch 30/100\n",
      "\u001b[1m72/72\u001b[0m \u001b[32m━━━━━━━━━━━━━━━━━━━━\u001b[0m\u001b[37m\u001b[0m \u001b[1m1s\u001b[0m 7ms/step - accuracy: 0.4440 - loss: 1.4514 - val_accuracy: 0.5451 - val_loss: 1.2825\n",
      "Epoch 31/100\n",
      "\u001b[1m72/72\u001b[0m \u001b[32m━━━━━━━━━━━━━━━━━━━━\u001b[0m\u001b[37m\u001b[0m \u001b[1m1s\u001b[0m 7ms/step - accuracy: 0.4556 - loss: 1.4015 - val_accuracy: 0.5642 - val_loss: 1.2389\n",
      "Epoch 32/100\n",
      "\u001b[1m72/72\u001b[0m \u001b[32m━━━━━━━━━━━━━━━━━━━━\u001b[0m\u001b[37m\u001b[0m \u001b[1m1s\u001b[0m 7ms/step - accuracy: 0.4843 - loss: 1.3758 - val_accuracy: 0.5503 - val_loss: 1.2232\n",
      "Epoch 33/100\n",
      "\u001b[1m72/72\u001b[0m \u001b[32m━━━━━━━━━━━━━━━━━━━━\u001b[0m\u001b[37m\u001b[0m \u001b[1m0s\u001b[0m 7ms/step - accuracy: 0.4633 - loss: 1.3930 - val_accuracy: 0.5590 - val_loss: 1.2229\n",
      "Epoch 34/100\n",
      "\u001b[1m72/72\u001b[0m \u001b[32m━━━━━━━━━━━━━━━━━━━━\u001b[0m\u001b[37m\u001b[0m \u001b[1m1s\u001b[0m 7ms/step - accuracy: 0.4870 - loss: 1.3590 - val_accuracy: 0.5764 - val_loss: 1.2046\n",
      "Epoch 35/100\n",
      "\u001b[1m72/72\u001b[0m \u001b[32m━━━━━━━━━━━━━━━━━━━━\u001b[0m\u001b[37m\u001b[0m \u001b[1m1s\u001b[0m 7ms/step - accuracy: 0.4817 - loss: 1.3551 - val_accuracy: 0.5938 - val_loss: 1.1620\n",
      "Epoch 36/100\n",
      "\u001b[1m72/72\u001b[0m \u001b[32m━━━━━━━━━━━━━━━━━━━━\u001b[0m\u001b[37m\u001b[0m \u001b[1m1s\u001b[0m 7ms/step - accuracy: 0.5026 - loss: 1.2994 - val_accuracy: 0.6007 - val_loss: 1.1363\n",
      "Epoch 37/100\n",
      "\u001b[1m72/72\u001b[0m \u001b[32m━━━━━━━━━━━━━━━━━━━━\u001b[0m\u001b[37m\u001b[0m \u001b[1m0s\u001b[0m 6ms/step - accuracy: 0.5011 - loss: 1.3065 - val_accuracy: 0.6181 - val_loss: 1.1233\n",
      "Epoch 38/100\n",
      "\u001b[1m72/72\u001b[0m \u001b[32m━━━━━━━━━━━━━━━━━━━━\u001b[0m\u001b[37m\u001b[0m \u001b[1m1s\u001b[0m 7ms/step - accuracy: 0.5183 - loss: 1.2644 - val_accuracy: 0.5990 - val_loss: 1.0996\n",
      "Epoch 39/100\n",
      "\u001b[1m72/72\u001b[0m \u001b[32m━━━━━━━━━━━━━━━━━━━━\u001b[0m\u001b[37m\u001b[0m \u001b[1m1s\u001b[0m 7ms/step - accuracy: 0.5373 - loss: 1.2638 - val_accuracy: 0.6372 - val_loss: 1.0709\n",
      "Epoch 40/100\n",
      "\u001b[1m72/72\u001b[0m \u001b[32m━━━━━━━━━━━━━━━━━━━━\u001b[0m\u001b[37m\u001b[0m \u001b[1m1s\u001b[0m 7ms/step - accuracy: 0.5638 - loss: 1.1969 - val_accuracy: 0.6493 - val_loss: 1.0466\n",
      "Epoch 41/100\n",
      "\u001b[1m72/72\u001b[0m \u001b[32m━━━━━━━━━━━━━━━━━━━━\u001b[0m\u001b[37m\u001b[0m \u001b[1m1s\u001b[0m 7ms/step - accuracy: 0.5522 - loss: 1.1764 - val_accuracy: 0.6510 - val_loss: 1.0343\n",
      "Epoch 42/100\n",
      "\u001b[1m72/72\u001b[0m \u001b[32m━━━━━━━━━━━━━━━━━━━━\u001b[0m\u001b[37m\u001b[0m \u001b[1m1s\u001b[0m 7ms/step - accuracy: 0.5634 - loss: 1.1854 - val_accuracy: 0.6458 - val_loss: 0.9844\n",
      "Epoch 43/100\n",
      "\u001b[1m72/72\u001b[0m \u001b[32m━━━━━━━━━━━━━━━━━━━━\u001b[0m\u001b[37m\u001b[0m \u001b[1m1s\u001b[0m 7ms/step - accuracy: 0.5634 - loss: 1.1475 - val_accuracy: 0.6875 - val_loss: 0.9832\n",
      "Epoch 44/100\n",
      "\u001b[1m72/72\u001b[0m \u001b[32m━━━━━━━━━━━━━━━━━━━━\u001b[0m\u001b[37m\u001b[0m \u001b[1m1s\u001b[0m 7ms/step - accuracy: 0.5888 - loss: 1.0973 - val_accuracy: 0.6771 - val_loss: 0.9465\n",
      "Epoch 45/100\n",
      "\u001b[1m72/72\u001b[0m \u001b[32m━━━━━━━━━━━━━━━━━━━━\u001b[0m\u001b[37m\u001b[0m \u001b[1m1s\u001b[0m 7ms/step - accuracy: 0.5933 - loss: 1.1037 - val_accuracy: 0.6944 - val_loss: 0.8992\n",
      "Epoch 46/100\n",
      "\u001b[1m72/72\u001b[0m \u001b[32m━━━━━━━━━━━━━━━━━━━━\u001b[0m\u001b[37m\u001b[0m \u001b[1m1s\u001b[0m 7ms/step - accuracy: 0.5968 - loss: 1.0746 - val_accuracy: 0.6840 - val_loss: 0.9157\n",
      "Epoch 47/100\n",
      "\u001b[1m72/72\u001b[0m \u001b[32m━━━━━━━━━━━━━━━━━━━━\u001b[0m\u001b[37m\u001b[0m \u001b[1m0s\u001b[0m 6ms/step - accuracy: 0.6292 - loss: 1.0097 - val_accuracy: 0.7222 - val_loss: 0.8362\n",
      "Epoch 48/100\n",
      "\u001b[1m72/72\u001b[0m \u001b[32m━━━━━━━━━━━━━━━━━━━━\u001b[0m\u001b[37m\u001b[0m \u001b[1m0s\u001b[0m 6ms/step - accuracy: 0.6108 - loss: 1.0316 - val_accuracy: 0.7344 - val_loss: 0.8298\n",
      "Epoch 49/100\n",
      "\u001b[1m72/72\u001b[0m \u001b[32m━━━━━━━━━━━━━━━━━━━━\u001b[0m\u001b[37m\u001b[0m \u001b[1m0s\u001b[0m 6ms/step - accuracy: 0.6361 - loss: 0.9816 - val_accuracy: 0.7483 - val_loss: 0.8078\n",
      "Epoch 50/100\n",
      "\u001b[1m72/72\u001b[0m \u001b[32m━━━━━━━━━━━━━━━━━━━━\u001b[0m\u001b[37m\u001b[0m \u001b[1m0s\u001b[0m 6ms/step - accuracy: 0.6402 - loss: 0.9807 - val_accuracy: 0.7326 - val_loss: 0.7480\n",
      "Epoch 51/100\n",
      "\u001b[1m72/72\u001b[0m \u001b[32m━━━━━━━━━━━━━━━━━━━━\u001b[0m\u001b[37m\u001b[0m \u001b[1m0s\u001b[0m 6ms/step - accuracy: 0.6390 - loss: 0.9621 - val_accuracy: 0.7691 - val_loss: 0.7645\n",
      "Epoch 52/100\n",
      "\u001b[1m72/72\u001b[0m \u001b[32m━━━━━━━━━━━━━━━━━━━━\u001b[0m\u001b[37m\u001b[0m \u001b[1m0s\u001b[0m 5ms/step - accuracy: 0.6421 - loss: 0.9360 - val_accuracy: 0.7361 - val_loss: 0.7458\n",
      "Epoch 53/100\n",
      "\u001b[1m72/72\u001b[0m \u001b[32m━━━━━━━━━━━━━━━━━━━━\u001b[0m\u001b[37m\u001b[0m \u001b[1m0s\u001b[0m 6ms/step - accuracy: 0.6702 - loss: 0.8742 - val_accuracy: 0.7778 - val_loss: 0.7248\n",
      "Epoch 54/100\n",
      "\u001b[1m72/72\u001b[0m \u001b[32m━━━━━━━━━━━━━━━━━━━━\u001b[0m\u001b[37m\u001b[0m \u001b[1m0s\u001b[0m 5ms/step - accuracy: 0.6831 - loss: 0.8708 - val_accuracy: 0.7743 - val_loss: 0.7021\n",
      "Epoch 55/100\n",
      "\u001b[1m72/72\u001b[0m \u001b[32m━━━━━━━━━━━━━━━━━━━━\u001b[0m\u001b[37m\u001b[0m \u001b[1m0s\u001b[0m 6ms/step - accuracy: 0.6895 - loss: 0.8408 - val_accuracy: 0.7691 - val_loss: 0.6989\n",
      "Epoch 56/100\n",
      "\u001b[1m72/72\u001b[0m \u001b[32m━━━━━━━━━━━━━━━━━━━━\u001b[0m\u001b[37m\u001b[0m \u001b[1m0s\u001b[0m 6ms/step - accuracy: 0.6986 - loss: 0.8491 - val_accuracy: 0.7483 - val_loss: 0.7095\n",
      "Epoch 57/100\n",
      "\u001b[1m72/72\u001b[0m \u001b[32m━━━━━━━━━━━━━━━━━━━━\u001b[0m\u001b[37m\u001b[0m \u001b[1m0s\u001b[0m 6ms/step - accuracy: 0.6966 - loss: 0.7870 - val_accuracy: 0.7986 - val_loss: 0.6644\n",
      "Epoch 58/100\n",
      "\u001b[1m72/72\u001b[0m \u001b[32m━━━━━━━━━━━━━━━━━━━━\u001b[0m\u001b[37m\u001b[0m \u001b[1m0s\u001b[0m 5ms/step - accuracy: 0.7010 - loss: 0.7923 - val_accuracy: 0.7830 - val_loss: 0.6632\n",
      "Epoch 59/100\n",
      "\u001b[1m72/72\u001b[0m \u001b[32m━━━━━━━━━━━━━━━━━━━━\u001b[0m\u001b[37m\u001b[0m \u001b[1m0s\u001b[0m 6ms/step - accuracy: 0.6859 - loss: 0.8124 - val_accuracy: 0.7847 - val_loss: 0.6348\n",
      "Epoch 60/100\n",
      "\u001b[1m72/72\u001b[0m \u001b[32m━━━━━━━━━━━━━━━━━━━━\u001b[0m\u001b[37m\u001b[0m \u001b[1m0s\u001b[0m 6ms/step - accuracy: 0.7143 - loss: 0.7737 - val_accuracy: 0.8003 - val_loss: 0.6152\n",
      "Epoch 61/100\n",
      "\u001b[1m72/72\u001b[0m \u001b[32m━━━━━━━━━━━━━━━━━━━━\u001b[0m\u001b[37m\u001b[0m \u001b[1m0s\u001b[0m 5ms/step - accuracy: 0.7154 - loss: 0.7969 - val_accuracy: 0.7934 - val_loss: 0.6460\n",
      "Epoch 62/100\n",
      "\u001b[1m72/72\u001b[0m \u001b[32m━━━━━━━━━━━━━━━━━━━━\u001b[0m\u001b[37m\u001b[0m \u001b[1m0s\u001b[0m 6ms/step - accuracy: 0.7492 - loss: 0.7217 - val_accuracy: 0.7847 - val_loss: 0.6135\n",
      "Epoch 63/100\n",
      "\u001b[1m72/72\u001b[0m \u001b[32m━━━━━━━━━━━━━━━━━━━━\u001b[0m\u001b[37m\u001b[0m \u001b[1m0s\u001b[0m 5ms/step - accuracy: 0.7147 - loss: 0.7626 - val_accuracy: 0.8194 - val_loss: 0.5998\n",
      "Epoch 64/100\n",
      "\u001b[1m72/72\u001b[0m \u001b[32m━━━━━━━━━━━━━━━━━━━━\u001b[0m\u001b[37m\u001b[0m \u001b[1m0s\u001b[0m 5ms/step - accuracy: 0.7455 - loss: 0.6917 - val_accuracy: 0.8229 - val_loss: 0.5715\n",
      "Epoch 65/100\n",
      "\u001b[1m72/72\u001b[0m \u001b[32m━━━━━━━━━━━━━━━━━━━━\u001b[0m\u001b[37m\u001b[0m \u001b[1m0s\u001b[0m 6ms/step - accuracy: 0.7447 - loss: 0.7022 - val_accuracy: 0.8316 - val_loss: 0.5726\n",
      "Epoch 66/100\n",
      "\u001b[1m72/72\u001b[0m \u001b[32m━━━━━━━━━━━━━━━━━━━━\u001b[0m\u001b[37m\u001b[0m \u001b[1m0s\u001b[0m 6ms/step - accuracy: 0.7659 - loss: 0.6705 - val_accuracy: 0.8229 - val_loss: 0.5652\n",
      "Epoch 67/100\n",
      "\u001b[1m72/72\u001b[0m \u001b[32m━━━━━━━━━━━━━━━━━━━━\u001b[0m\u001b[37m\u001b[0m \u001b[1m0s\u001b[0m 6ms/step - accuracy: 0.7592 - loss: 0.6647 - val_accuracy: 0.8281 - val_loss: 0.5232\n",
      "Epoch 68/100\n",
      "\u001b[1m72/72\u001b[0m \u001b[32m━━━━━━━━━━━━━━━━━━━━\u001b[0m\u001b[37m\u001b[0m \u001b[1m0s\u001b[0m 6ms/step - accuracy: 0.7637 - loss: 0.6515 - val_accuracy: 0.8316 - val_loss: 0.5361\n",
      "Epoch 69/100\n",
      "\u001b[1m72/72\u001b[0m \u001b[32m━━━━━━━━━━━━━━━━━━━━\u001b[0m\u001b[37m\u001b[0m \u001b[1m0s\u001b[0m 6ms/step - accuracy: 0.7422 - loss: 0.6811 - val_accuracy: 0.8351 - val_loss: 0.5108\n",
      "Epoch 70/100\n",
      "\u001b[1m72/72\u001b[0m \u001b[32m━━━━━━━━━━━━━━━━━━━━\u001b[0m\u001b[37m\u001b[0m \u001b[1m0s\u001b[0m 5ms/step - accuracy: 0.7770 - loss: 0.6319 - val_accuracy: 0.8403 - val_loss: 0.4960\n",
      "Epoch 71/100\n",
      "\u001b[1m72/72\u001b[0m \u001b[32m━━━━━━━━━━━━━━━━━━━━\u001b[0m\u001b[37m\u001b[0m \u001b[1m0s\u001b[0m 5ms/step - accuracy: 0.7674 - loss: 0.6403 - val_accuracy: 0.8455 - val_loss: 0.5008\n",
      "Epoch 72/100\n",
      "\u001b[1m72/72\u001b[0m \u001b[32m━━━━━━━━━━━━━━━━━━━━\u001b[0m\u001b[37m\u001b[0m \u001b[1m0s\u001b[0m 6ms/step - accuracy: 0.7764 - loss: 0.6190 - val_accuracy: 0.8559 - val_loss: 0.4857\n",
      "Epoch 73/100\n",
      "\u001b[1m72/72\u001b[0m \u001b[32m━━━━━━━━━━━━━━━━━━━━\u001b[0m\u001b[37m\u001b[0m \u001b[1m0s\u001b[0m 6ms/step - accuracy: 0.7797 - loss: 0.6008 - val_accuracy: 0.8385 - val_loss: 0.4882\n",
      "Epoch 74/100\n",
      "\u001b[1m72/72\u001b[0m \u001b[32m━━━━━━━━━━━━━━━━━━━━\u001b[0m\u001b[37m\u001b[0m \u001b[1m0s\u001b[0m 6ms/step - accuracy: 0.7803 - loss: 0.5882 - val_accuracy: 0.8507 - val_loss: 0.4673\n",
      "Epoch 75/100\n",
      "\u001b[1m72/72\u001b[0m \u001b[32m━━━━━━━━━━━━━━━━━━━━\u001b[0m\u001b[37m\u001b[0m \u001b[1m0s\u001b[0m 6ms/step - accuracy: 0.7957 - loss: 0.5663 - val_accuracy: 0.8472 - val_loss: 0.4710\n",
      "Epoch 76/100\n",
      "\u001b[1m72/72\u001b[0m \u001b[32m━━━━━━━━━━━━━━━━━━━━\u001b[0m\u001b[37m\u001b[0m \u001b[1m0s\u001b[0m 6ms/step - accuracy: 0.7779 - loss: 0.6297 - val_accuracy: 0.8507 - val_loss: 0.4922\n",
      "Epoch 77/100\n",
      "\u001b[1m72/72\u001b[0m \u001b[32m━━━━━━━━━━━━━━━━━━━━\u001b[0m\u001b[37m\u001b[0m \u001b[1m0s\u001b[0m 6ms/step - accuracy: 0.7996 - loss: 0.5509 - val_accuracy: 0.8681 - val_loss: 0.4591\n",
      "Epoch 78/100\n",
      "\u001b[1m72/72\u001b[0m \u001b[32m━━━━━━━━━━━━━━━━━━━━\u001b[0m\u001b[37m\u001b[0m \u001b[1m1s\u001b[0m 7ms/step - accuracy: 0.7974 - loss: 0.5581 - val_accuracy: 0.8646 - val_loss: 0.4398\n",
      "Epoch 79/100\n",
      "\u001b[1m72/72\u001b[0m \u001b[32m━━━━━━━━━━━━━━━━━━━━\u001b[0m\u001b[37m\u001b[0m \u001b[1m1s\u001b[0m 8ms/step - accuracy: 0.7955 - loss: 0.5555 - val_accuracy: 0.8663 - val_loss: 0.4259\n",
      "Epoch 80/100\n",
      "\u001b[1m72/72\u001b[0m \u001b[32m━━━━━━━━━━━━━━━━━━━━\u001b[0m\u001b[37m\u001b[0m \u001b[1m1s\u001b[0m 7ms/step - accuracy: 0.8027 - loss: 0.5486 - val_accuracy: 0.8611 - val_loss: 0.4192\n",
      "Epoch 81/100\n",
      "\u001b[1m72/72\u001b[0m \u001b[32m━━━━━━━━━━━━━━━━━━━━\u001b[0m\u001b[37m\u001b[0m \u001b[1m1s\u001b[0m 7ms/step - accuracy: 0.8128 - loss: 0.5246 - val_accuracy: 0.8750 - val_loss: 0.4238\n",
      "Epoch 82/100\n",
      "\u001b[1m72/72\u001b[0m \u001b[32m━━━━━━━━━━━━━━━━━━━━\u001b[0m\u001b[37m\u001b[0m \u001b[1m0s\u001b[0m 6ms/step - accuracy: 0.8240 - loss: 0.4724 - val_accuracy: 0.8872 - val_loss: 0.4158\n",
      "Epoch 83/100\n",
      "\u001b[1m72/72\u001b[0m \u001b[32m━━━━━━━━━━━━━━━━━━━━\u001b[0m\u001b[37m\u001b[0m \u001b[1m0s\u001b[0m 6ms/step - accuracy: 0.8174 - loss: 0.5094 - val_accuracy: 0.8854 - val_loss: 0.3948\n",
      "Epoch 84/100\n",
      "\u001b[1m72/72\u001b[0m \u001b[32m━━━━━━━━━━━━━━━━━━━━\u001b[0m\u001b[37m\u001b[0m \u001b[1m0s\u001b[0m 5ms/step - accuracy: 0.8240 - loss: 0.4929 - val_accuracy: 0.8958 - val_loss: 0.3806\n",
      "Epoch 85/100\n",
      "\u001b[1m72/72\u001b[0m \u001b[32m━━━━━━━━━━━━━━━━━━━━\u001b[0m\u001b[37m\u001b[0m \u001b[1m0s\u001b[0m 5ms/step - accuracy: 0.8212 - loss: 0.4963 - val_accuracy: 0.9028 - val_loss: 0.3706\n",
      "Epoch 86/100\n",
      "\u001b[1m72/72\u001b[0m \u001b[32m━━━━━━━━━━━━━━━━━━━━\u001b[0m\u001b[37m\u001b[0m \u001b[1m0s\u001b[0m 6ms/step - accuracy: 0.8229 - loss: 0.4730 - val_accuracy: 0.8872 - val_loss: 0.4016\n",
      "Epoch 87/100\n",
      "\u001b[1m72/72\u001b[0m \u001b[32m━━━━━━━━━━━━━━━━━━━━\u001b[0m\u001b[37m\u001b[0m \u001b[1m0s\u001b[0m 6ms/step - accuracy: 0.8183 - loss: 0.4667 - val_accuracy: 0.8906 - val_loss: 0.3899\n",
      "Epoch 88/100\n",
      "\u001b[1m72/72\u001b[0m \u001b[32m━━━━━━━━━━━━━━━━━━━━\u001b[0m\u001b[37m\u001b[0m \u001b[1m0s\u001b[0m 6ms/step - accuracy: 0.8255 - loss: 0.4798 - val_accuracy: 0.8854 - val_loss: 0.3904\n",
      "Epoch 89/100\n",
      "\u001b[1m72/72\u001b[0m \u001b[32m━━━━━━━━━━━━━━━━━━━━\u001b[0m\u001b[37m\u001b[0m \u001b[1m0s\u001b[0m 6ms/step - accuracy: 0.8397 - loss: 0.4399 - val_accuracy: 0.8941 - val_loss: 0.3561\n",
      "Epoch 90/100\n",
      "\u001b[1m72/72\u001b[0m \u001b[32m━━━━━━━━━━━━━━━━━━━━\u001b[0m\u001b[37m\u001b[0m \u001b[1m0s\u001b[0m 6ms/step - accuracy: 0.8457 - loss: 0.4585 - val_accuracy: 0.9010 - val_loss: 0.3516\n",
      "Epoch 91/100\n",
      "\u001b[1m72/72\u001b[0m \u001b[32m━━━━━━━━━━━━━━━━━━━━\u001b[0m\u001b[37m\u001b[0m \u001b[1m0s\u001b[0m 5ms/step - accuracy: 0.8544 - loss: 0.4099 - val_accuracy: 0.8976 - val_loss: 0.3647\n",
      "Epoch 92/100\n",
      "\u001b[1m72/72\u001b[0m \u001b[32m━━━━━━━━━━━━━━━━━━━━\u001b[0m\u001b[37m\u001b[0m \u001b[1m0s\u001b[0m 5ms/step - accuracy: 0.8394 - loss: 0.4442 - val_accuracy: 0.9010 - val_loss: 0.3880\n",
      "Epoch 93/100\n",
      "\u001b[1m72/72\u001b[0m \u001b[32m━━━━━━━━━━━━━━━━━━━━\u001b[0m\u001b[37m\u001b[0m \u001b[1m0s\u001b[0m 6ms/step - accuracy: 0.8546 - loss: 0.4011 - val_accuracy: 0.9062 - val_loss: 0.3315\n",
      "Epoch 94/100\n",
      "\u001b[1m72/72\u001b[0m \u001b[32m━━━━━━━━━━━━━━━━━━━━\u001b[0m\u001b[37m\u001b[0m \u001b[1m0s\u001b[0m 5ms/step - accuracy: 0.8570 - loss: 0.4066 - val_accuracy: 0.8837 - val_loss: 0.3517\n",
      "Epoch 95/100\n",
      "\u001b[1m72/72\u001b[0m \u001b[32m━━━━━━━━━━━━━━━━━━━━\u001b[0m\u001b[37m\u001b[0m \u001b[1m0s\u001b[0m 5ms/step - accuracy: 0.8570 - loss: 0.4290 - val_accuracy: 0.8993 - val_loss: 0.3558\n",
      "Epoch 96/100\n",
      "\u001b[1m72/72\u001b[0m \u001b[32m━━━━━━━━━━━━━━━━━━━━\u001b[0m\u001b[37m\u001b[0m \u001b[1m0s\u001b[0m 6ms/step - accuracy: 0.8609 - loss: 0.3896 - val_accuracy: 0.8906 - val_loss: 0.3549\n",
      "Epoch 97/100\n",
      "\u001b[1m72/72\u001b[0m \u001b[32m━━━━━━━━━━━━━━━━━━━━\u001b[0m\u001b[37m\u001b[0m \u001b[1m0s\u001b[0m 5ms/step - accuracy: 0.8593 - loss: 0.4013 - val_accuracy: 0.9010 - val_loss: 0.3377\n",
      "Epoch 98/100\n",
      "\u001b[1m72/72\u001b[0m \u001b[32m━━━━━━━━━━━━━━━━━━━━\u001b[0m\u001b[37m\u001b[0m \u001b[1m0s\u001b[0m 6ms/step - accuracy: 0.8638 - loss: 0.3873 - val_accuracy: 0.9115 - val_loss: 0.3193\n",
      "Epoch 99/100\n",
      "\u001b[1m72/72\u001b[0m \u001b[32m━━━━━━━━━━━━━━━━━━━━\u001b[0m\u001b[37m\u001b[0m \u001b[1m0s\u001b[0m 5ms/step - accuracy: 0.8615 - loss: 0.3948 - val_accuracy: 0.9010 - val_loss: 0.3076\n",
      "Epoch 100/100\n",
      "\u001b[1m72/72\u001b[0m \u001b[32m━━━━━━━━━━━━━━━━━━━━\u001b[0m\u001b[37m\u001b[0m \u001b[1m0s\u001b[0m 6ms/step - accuracy: 0.8638 - loss: 0.3963 - val_accuracy: 0.9010 - val_loss: 0.3422\n"
     ]
    }
   ],
   "source": [
    "\n",
    "history = model.fit(X_train, y_train, epochs=100, batch_size=32, validation_data=(X_test, y_test))"
   ]
  },
  {
   "cell_type": "markdown",
   "id": "669a85fe-8a7b-438c-8524-ae3ccec2be1f",
   "metadata": {},
   "source": [
    "### Model Evaluation\n",
    "\n",
    "After training, the model is evaluated on the test set to determine its final accuracy. The test accuracy provides an indication of how well the model generalizes to unseen data."
   ]
  },
  {
   "cell_type": "code",
   "execution_count": 75,
   "id": "6141387a-448a-4ba5-a8c3-0957658002b3",
   "metadata": {},
   "outputs": [
    {
     "name": "stdout",
     "output_type": "stream",
     "text": [
      "\u001b[1m18/18\u001b[0m \u001b[32m━━━━━━━━━━━━━━━━━━━━\u001b[0m\u001b[37m\u001b[0m \u001b[1m0s\u001b[0m 4ms/step - accuracy: 0.9008 - loss: 0.3352\n",
      "Test accuracy: 0.9010416865348816\n",
      "\u001b[1m18/18\u001b[0m \u001b[32m━━━━━━━━━━━━━━━━━━━━\u001b[0m\u001b[37m\u001b[0m \u001b[1m0s\u001b[0m 4ms/step\n",
      "True label: 5, Predicted label: 5\n",
      "True label: 2, Predicted label: 2\n",
      "True label: 3, Predicted label: 3\n",
      "True label: 1, Predicted label: 1\n",
      "True label: 1, Predicted label: 1\n",
      "True label: 1, Predicted label: 1\n",
      "True label: 7, Predicted label: 7\n",
      "True label: 0, Predicted label: 0\n",
      "True label: 3, Predicted label: 1\n",
      "True label: 2, Predicted label: 2\n"
     ]
    }
   ],
   "source": [
    "\n",
    "test_loss, test_acc = model.evaluate(X_test, y_test)\n",
    "print(f\"Test accuracy: {test_acc}\")\n",
    "predictions = model.predict(X_test)\n",
    "predicted_labels = np.argmax(predictions, axis=1)\n",
    "true_labels = np.argmax(y_test, axis=1)\n",
    "\n",
    "# Print some predictions\n",
    "for i in range(10):\n",
    "    print(f\"True label: {true_labels[i]}, Predicted label: {predicted_labels[i]}\")\n"
   ]
  },
  {
   "cell_type": "markdown",
   "id": "8c2536e4-e80a-4168-9cd4-6da3ff687b49",
   "metadata": {},
   "source": [
    "\n",
    "# Model Training and Test Accuracy\r\n",
    "\r\n",
    "The following plot shows the accuracy of the Conv1D model over 100 epochs for both the training and test datasets.\r\n",
    "\r\n",
    "![Model Accuracy](file-wz1q1aYBQZ0yAF08sdfCyndt)\r\n",
    "\r\n",
    "### Description\r\n",
    "\r\n",
    "- **X-axis (Epoch)**: Represents the number of training epochs. Each epoch is one complete pass through the training dataset.\r\n",
    "- **Y-axis (Accuracy)**: Represents the accuracy of the model. Accuracy is the proportion of correctly predicted instances out of the total instances.\r\n",
    "\r\n",
    "### Observations\r\n",
    "\r\n",
    "- **Training Accuracy (Blue Line)**: The training accuracy shows a steady increase as the number of epochs increases. This indicates that the model is learning and improving its performance on the training data.\r\n",
    "- **Test Accuracy (Orange Line)**: The test accuracy also shows an increase and follows a similar trend to the training accuracy. This indicates that the model generalizes well to unseen data.\r\n",
    "- **Model Performance**: The model achieves over 90% accuracy on both the training and test datasets after 100 epochs, demonstrating its effectiveness in classifying emotions from auficant overfitting.\r\n"
   ]
  },
  {
   "cell_type": "code",
   "execution_count": 60,
   "id": "2d7647a2-cc62-4c55-9f04-8c1705c53f66",
   "metadata": {},
   "outputs": [
    {
     "data": {
      "text/plain": [
       "<matplotlib.legend.Legend at 0x1e6d7d53a10>"
      ]
     },
     "execution_count": 60,
     "metadata": {},
     "output_type": "execute_result"
    },
    {
     "data": {
      "image/png": "[encoded data removed]",
      "text/plain": [
       "<Figure size 1200x400 with 1 Axes>"
      ]
     },
     "metadata": {},
     "output_type": "display_data"
    }
   ],
   "source": [
    "plt.figure(figsize=(12, 4))\n",
    "plt.subplot(1, 2, 1)\n",
    "plt.plot(history.history['accuracy'])\n",
    "plt.plot(history.history['val_accuracy'])\n",
    "plt.title('Model accuracy')\n",
    "plt.ylabel('Accuracy')\n",
    "plt.xlabel('Epoch')\n",
    "plt.legend(['Train', 'Test'], loc='upper left')"
   ]
  },
  {
   "cell_type": "markdown",
   "id": "31f7b8ff-465e-4c9f-884b-86fe27d63f2f",
   "metadata": {},
   "source": [
    "### Conclusion\n",
    "\n",
    "The graph indicates that the Conv1D model is effective in learning and generalizing the task of emotion recognition from audio features. Both the training and test accuracies show a consistent improvement over the epochs, with the test accuracy closely following the training accuracy, suggesting that the model does not suffer from significant overfitting."
   ]
  },
  {
   "cell_type": "markdown",
   "id": "187e8084-a43c-4b04-8eb8-1f155f8777b7",
   "metadata": {},
   "source": [
    "# Confusion Matrix\n",
    "\n",
    "The following plot shows the confusion matrix for the Conv1D model's predictions on the test dataset.\n",
    "\n",
    "![Confusion Matrix](file-3V9Hv2ysyiFrPzotIsExjBK1)"
   ]
  },
  {
   "cell_type": "code",
   "execution_count": 68,
   "id": "eed99318-753a-4196-a9ea-e41173335c57",
   "metadata": {},
   "outputs": [
    {
     "data": {
      "image/png": "[encoded data removed]",
      "text/plain": [
       "<Figure size 640x480 with 2 Axes>"
      ]
     },
     "metadata": {},
     "output_type": "display_data"
    }
   ],
   "source": [
    "import seaborn as sns\n",
    "from sklearn.metrics import confusion_matrix\n",
    "\n",
    "# Compute confusion matrix\n",
    "conf_matrix = confusion_matrix(true_labels, predicted_labels)\n",
    "sns.heatmap(conf_matrix, annot=True, fmt=\"d\", cmap=\"Blues\", xticklabels=label_encoder.classes_, yticklabels=label_encoder.classes_)\n",
    "plt.ylabel('Actual')\n",
    "plt.xlabel('Predicted')\n",
    "plt.show()\n"
   ]
  },
  {
   "cell_type": "markdown",
   "id": "75016e46-b833-4114-95c6-212bed312c57",
   "metadata": {},
   "source": [
    "\n",
    "\n",
    "### Description\n",
    "\n",
    "- **X-axis (Predicted)**: Represents the predicted emotion labels by the model.\n",
    "- **Y-axis (Actual)**: Represents the actual emotion labels.\n",
    "- **Color Scale**: The intensity of the color represents the number of instances classified in each category, with darker colors indicating a higher number of instances.\n",
    "\n",
    "### Emotion Labels\n",
    "The numerical labels correspond to the following emotions:\n",
    "- 0: Neutral\n",
    "- 1: Calm\n",
    "- 2: Happy\n",
    "- 3: Sad\n",
    "- 4: Angry\n",
    "- 5: Fearful\n",
    "- 6: Disgust\n",
    "- 7: Surprised\n",
    "\n",
    "### Observations\n",
    "\n",
    "- **High Accuracy**: Most predictions are concentrated along the diagonal, indicating correct classifications.\n",
    "- **Misclassifications**: Some off-diagonal elements show misclassifications, such as a few instances where 'Neutral' is predicted as 'Calm' or 'Happy'.\n",
    "- **Confusion**: Specific emotions like 'Sad' and 'Angry' show some level of confusion with other emotions, as indicated by the lighter cells off the diagonal.\n",
    "\n",
    "### Conclusion\n",
    "\n",
    "The confusion matrix indicates that the Conv1D model performs well in classifying most of the emotions correctly, with a high number of correct predictions for 'Neutral', 'Sad', and 'Angry'. Some emotions like 'Calm' and 'Happy' have slight confusion with other emotions, but overall, the model demonstrates strong performance in emotion recognition."
   ]
  },
  {
   "cell_type": "code",
   "execution_count": 61,
   "id": "4dc5b551-0161-4b65-80a6-95572d58486e",
   "metadata": {},
   "outputs": [],
   "source": [
    "# Save the model in the recommended Keras format\n",
    "model.save('emotion_recognition_model.keras')\n"
   ]
  },
  {
   "cell_type": "markdown",
   "id": "16a6eed0-1f41-4865-a630-fb5947b5627c",
   "metadata": {},
   "source": [
    "\n",
    "# LSTM Model for Emotion Classification\r\n",
    "\r\n",
    "## Model Architecture\r\n",
    "\r\n",
    "- **Input Layer**: The model accepts input with the shape (40, 1), where 40 represents the number of MFCC features extracted from the audio signals.\r\n",
    "- **LSTM Layer**: A Long Short-Term Memory (LSTM) layer with 128 units is used. This layer processes the input sequence and outputs the last hidden state.\r\n",
    "- **Dense Layer 1**: A fully connected layer with 64 units.\r\n",
    "- **Dropout Layer 1**: A dropout layer with a dropout rate of 0.4 is added after the first dense layer to reduce overfitting by randomly setting 40% of the input units to 0 during training.\r\n",
    "- **Activation Layer 1**: A ReLU activation function is applied to introduce non-linearity.\r\n",
    "- **Dense Layer 2**: Another fully connected layer with 32 units.\r\n",
    "- **Dropout Layer 2**: Another dropout layer with a dropout rate of 0.4 is added after the second dense layer to further reduce overfitting.\r\n",
    "- **Activation Layer 2**: Another ReLU activation function is applied.\r\n",
    "- **Output Layer**: The final output layer consists of 8 units, corresponding to the 8 emotion categories. A softmax activation function is used to output a probability distribution over the emotion categories.\r\n",
    "\r\n",
    "## Model Compilation\r\n",
    "\r\n",
    "- **Loss Function**: The model uses `categorical_crossentropy` as the loss function, which is suitable for multi-class classification problems.\r\n",
    "- **Optimizer**: The `Adam` optimizer is used to update the model weights during training. Adam is known for its efficiency and effectiveness in training deep learning models.\r\n",
    "- **Metrics**: The `accuracy` metric is used to evaluate the model's performance on the training and validation datasets.\r\n",
    "\r\n",
    "## Usage\r\n",
    "\r\n",
    "The function `create_model_LSTM` initializes and compiles the LSTM model based on the defined architecture. This function can be called to get a compiled model ready for training on the preprocessed dataset.\r\n"
   ]
  },
  {
   "cell_type": "code",
   "execution_count": 53,
   "id": "bc569d3f-f20f-4a5e-a4d2-91de0d483ce8",
   "metadata": {},
   "outputs": [],
   "source": [
    "def create_model_LSTM():\n",
    "  model = Sequential()\n",
    "  model.add(LSTM(128, return_sequences=False, input_shape=(40, 1)))\n",
    "  model.add (Dense (64))\n",
    "  model.add(Dropout (0.4))\n",
    "  model.add(Activation('relu'))\n",
    "  model.add(Dense(32))\n",
    "  model.add(Dropout (0.4))\n",
    "  model.add(Activation('relu'))\n",
    "  model.add(Dense(8))\n",
    "  model.add(Activation('softmax'))\n",
    "  # Configures the model for training\n",
    "  model.compile(loss='categorical_crossentropy', optimizer='Adam', metrics=['accuracy'])\n",
    "  return model"
   ]
  },
  {
   "cell_type": "code",
   "execution_count": 76,
   "id": "eda58f26-9557-4d6f-872b-a4fcdb0b1fd2",
   "metadata": {},
   "outputs": [
    {
     "data": {
      "text/plain": [
       "(2880, 40)"
      ]
     },
     "execution_count": 76,
     "metadata": {},
     "output_type": "execute_result"
    }
   ],
   "source": [
    "X.shape"
   ]
  },
  {
   "cell_type": "markdown",
   "id": "d50bc884-a1c6-48f1-8327-0950ea81ecb4",
   "metadata": {},
   "source": [
    "## Data Preparation for Model Training\r\n",
    "\r\n",
    "### Splitting the Dataset\r\n",
    "\r\n",
    "1. **Determine the Number of Samples**: \r\n",
    "   - `X.shape[0]` gives the total number of samples in the dataset.\r\n",
    "\r\n",
    "2. **Calculate the Number of Training, Validation, and Test Samples**:\r\n",
    "   - **Training Samples**: 80% of the total samples are allocated for training.\r\n",
    "   - **Validation Samples**: 10% of the total samples are allocated for validation.\r\n",
    "   - **Test Samples**: 10% of the total samples are allocated for tef_samples * 0.1)\r\n"
   ]
  },
  {
   "cell_type": "code",
   "execution_count": 77,
   "id": "e54f28e0-43a4-42e5-ab72-818b97a8b4d5",
   "metadata": {},
   "outputs": [],
   "source": [
    "number_of_samples = X.shape[0]\n",
    "training_samples = int(number_of_samples * 0.8)\n",
    "validation_samples = int(number_of_samples * 0.1)\n",
    "test_samples = int(number_of_samples * 0.1)\r\n"
   ]
  },
  {
   "cell_type": "markdown",
   "id": "00ccfac3-a63b-4949-ac64-ec0ca3399897",
   "metadata": {},
   "source": [
    "#### Reshaping the Training Data\n",
    "\n",
    "**Expand Dimensions of Training Data**:\n",
    "\n",
    "- **Reshape the Training Data**: \n",
    "  - The training data, `X[:training_samples]`, is reshaped by adding an additional dimension using `np.expand_dims`.\n",
    "  - This step is crucial to match the input shape required by the LSTM model, which expects a 3D input.\n",
    "  - The reshaped data ensures compatibility with the LSTM model's input requirements.\n"
   ]
  },
  {
   "cell_type": "code",
   "execution_count": 81,
   "id": "57738349-717f-443d-8480-2f51640b5a18",
   "metadata": {},
   "outputs": [
    {
     "data": {
      "text/plain": [
       "(2304, 40, 1)"
      ]
     },
     "execution_count": 81,
     "metadata": {},
     "output_type": "execute_result"
    }
   ],
   "source": [
    "w = np.expand_dims(X[:training_samples],-1)\n",
    "w.shape"
   ]
  },
  {
   "cell_type": "markdown",
   "id": "7db51c95-8f30-4578-90f2-5f732a803b10",
   "metadata": {},
   "source": [
    "#### Training the LSTM Model\r\n",
    "\r\n",
    "**Model Initialization**:\r\n",
    "- Create the LSTM model by calling the `create_model_LSTM()` function and assign it to `model_A`.\r\n",
    "\r\n",
    "**Model Training**:\r\n",
    "- Train the model using the `fit` method:\r\n",
    "  - **Training Data**: `w`, which is the reshaped training data.\r\n",
    "  - **Training Labels**: `y_cat[:training_samples]`, which are the categorical labels for the training data.\r\n",
    "  - **Validation Data**: \r\n",
    "    - Inputs: `np.expand_dims(X[training_samples:training_samples + validation_samples], -1)`, reshaped validation data.\r\n",
    "    - Labels: `y_cat[training_samples:training_samples + validation_samples]`, categorical labels for the validation data.\r\n",
    "  - **Epochs**: Train the model for 130 epochs.\r\n",
    "  - **Shuffle**: Enable shuffling of training data at each epoch to improve generalization.\r\n"
   ]
  },
  {
   "cell_type": "code",
   "execution_count": 83,
   "id": "9b377dbb-d02c-42f7-8082-6de1aba76985",
   "metadata": {},
   "outputs": [
    {
     "name": "stderr",
     "output_type": "stream",
     "text": [
      "C:\\Users\\KIIT\\anaconda3\\Lib\\site-packages\\keras\\src\\layers\\rnn\\rnn.py:204: UserWarning: Do not pass an `input_shape`/`input_dim` argument to a layer. When using Sequential models, prefer using an `Input(shape)` object as the first layer in the model instead.\n",
      "  super().__init__(**kwargs)\n"
     ]
    },
    {
     "name": "stdout",
     "output_type": "stream",
     "text": [
      "Epoch 1/130\n",
      "\u001b[1m72/72\u001b[0m \u001b[32m━━━━━━━━━━━━━━━━━━━━\u001b[0m\u001b[37m\u001b[0m \u001b[1m7s\u001b[0m 30ms/step - accuracy: 0.1385 - loss: 2.0760 - val_accuracy: 0.2014 - val_loss: 2.0433\n",
      "Epoch 2/130\n",
      "\u001b[1m72/72\u001b[0m \u001b[32m━━━━━━━━━━━━━━━━━━━━\u001b[0m\u001b[37m\u001b[0m \u001b[1m2s\u001b[0m 22ms/step - accuracy: 0.1759 - loss: 2.0426 - val_accuracy: 0.2326 - val_loss: 1.9693\n",
      "Epoch 3/130\n",
      "\u001b[1m72/72\u001b[0m \u001b[32m━━━━━━━━━━━━━━━━━━━━\u001b[0m\u001b[37m\u001b[0m \u001b[1m2s\u001b[0m 21ms/step - accuracy: 0.2172 - loss: 1.9757 - val_accuracy: 0.2465 - val_loss: 1.9313\n",
      "Epoch 4/130\n",
      "\u001b[1m72/72\u001b[0m \u001b[32m━━━━━━━━━━━━━━━━━━━━\u001b[0m\u001b[37m\u001b[0m \u001b[1m2s\u001b[0m 21ms/step - accuracy: 0.2460 - loss: 1.9279 - val_accuracy: 0.3264 - val_loss: 1.8912\n",
      "Epoch 5/130\n",
      "\u001b[1m72/72\u001b[0m \u001b[32m━━━━━━━━━━━━━━━━━━━━\u001b[0m\u001b[37m\u001b[0m \u001b[1m2s\u001b[0m 21ms/step - accuracy: 0.2609 - loss: 1.8951 - val_accuracy: 0.3194 - val_loss: 1.8512\n",
      "Epoch 6/130\n",
      "\u001b[1m72/72\u001b[0m \u001b[32m━━━━━━━━━━━━━━━━━━━━\u001b[0m\u001b[37m\u001b[0m \u001b[1m2s\u001b[0m 22ms/step - accuracy: 0.2863 - loss: 1.8695 - val_accuracy: 0.3264 - val_loss: 1.8080\n",
      "Epoch 7/130\n",
      "\u001b[1m72/72\u001b[0m \u001b[32m━━━━━━━━━━━━━━━━━━━━\u001b[0m\u001b[37m\u001b[0m \u001b[1m2s\u001b[0m 22ms/step - accuracy: 0.2855 - loss: 1.8637 - val_accuracy: 0.2986 - val_loss: 1.8396\n",
      "Epoch 8/130\n",
      "\u001b[1m72/72\u001b[0m \u001b[32m━━━━━━━━━━━━━━━━━━━━\u001b[0m\u001b[37m\u001b[0m \u001b[1m2s\u001b[0m 23ms/step - accuracy: 0.2954 - loss: 1.8291 - val_accuracy: 0.3056 - val_loss: 1.8039\n",
      "Epoch 9/130\n",
      "\u001b[1m72/72\u001b[0m \u001b[32m━━━━━━━━━━━━━━━━━━━━\u001b[0m\u001b[37m\u001b[0m \u001b[1m2s\u001b[0m 22ms/step - accuracy: 0.3015 - loss: 1.8223 - val_accuracy: 0.3264 - val_loss: 1.7575\n",
      "Epoch 10/130\n",
      "\u001b[1m72/72\u001b[0m \u001b[32m━━━━━━━━━━━━━━━━━━━━\u001b[0m\u001b[37m\u001b[0m \u001b[1m1s\u001b[0m 18ms/step - accuracy: 0.2902 - loss: 1.8003 - val_accuracy: 0.3021 - val_loss: 1.7344\n",
      "Epoch 11/130\n",
      "\u001b[1m72/72\u001b[0m \u001b[32m━━━━━━━━━━━━━━━━━━━━\u001b[0m\u001b[37m\u001b[0m \u001b[1m1s\u001b[0m 17ms/step - accuracy: 0.3098 - loss: 1.7580 - val_accuracy: 0.3125 - val_loss: 1.7068\n",
      "Epoch 12/130\n",
      "\u001b[1m72/72\u001b[0m \u001b[32m━━━━━━━━━━━━━━━━━━━━\u001b[0m\u001b[37m\u001b[0m \u001b[1m1s\u001b[0m 16ms/step - accuracy: 0.3321 - loss: 1.7474 - val_accuracy: 0.3125 - val_loss: 1.7494\n",
      "Epoch 13/130\n",
      "\u001b[1m72/72\u001b[0m \u001b[32m━━━━━━━━━━━━━━━━━━━━\u001b[0m\u001b[37m\u001b[0m \u001b[1m1s\u001b[0m 16ms/step - accuracy: 0.2942 - loss: 1.7550 - val_accuracy: 0.3299 - val_loss: 1.7023\n",
      "Epoch 14/130\n",
      "\u001b[1m72/72\u001b[0m \u001b[32m━━━━━━━━━━━━━━━━━━━━\u001b[0m\u001b[37m\u001b[0m \u001b[1m1s\u001b[0m 16ms/step - accuracy: 0.3294 - loss: 1.7053 - val_accuracy: 0.3299 - val_loss: 1.6989\n",
      "Epoch 15/130\n",
      "\u001b[1m72/72\u001b[0m \u001b[32m━━━━━━━━━━━━━━━━━━━━\u001b[0m\u001b[37m\u001b[0m \u001b[1m1s\u001b[0m 17ms/step - accuracy: 0.3304 - loss: 1.6865 - val_accuracy: 0.3438 - val_loss: 1.6837\n",
      "Epoch 16/130\n",
      "\u001b[1m72/72\u001b[0m \u001b[32m━━━━━━━━━━━━━━━━━━━━\u001b[0m\u001b[37m\u001b[0m \u001b[1m1s\u001b[0m 16ms/step - accuracy: 0.3505 - loss: 1.6672 - val_accuracy: 0.3507 - val_loss: 1.6803\n",
      "Epoch 17/130\n",
      "\u001b[1m72/72\u001b[0m \u001b[32m━━━━━━━━━━━━━━━━━━━━\u001b[0m\u001b[37m\u001b[0m \u001b[1m1s\u001b[0m 16ms/step - accuracy: 0.3555 - loss: 1.6649 - val_accuracy: 0.3785 - val_loss: 1.6393\n",
      "Epoch 18/130\n",
      "\u001b[1m72/72\u001b[0m \u001b[32m━━━━━━━━━━━━━━━━━━━━\u001b[0m\u001b[37m\u001b[0m \u001b[1m1s\u001b[0m 15ms/step - accuracy: 0.3635 - loss: 1.6090 - val_accuracy: 0.3611 - val_loss: 1.6099\n",
      "Epoch 19/130\n",
      "\u001b[1m72/72\u001b[0m \u001b[32m━━━━━━━━━━━━━━━━━━━━\u001b[0m\u001b[37m\u001b[0m \u001b[1m1s\u001b[0m 16ms/step - accuracy: 0.3768 - loss: 1.6106 - val_accuracy: 0.3681 - val_loss: 1.5997\n",
      "Epoch 20/130\n",
      "\u001b[1m72/72\u001b[0m \u001b[32m━━━━━━━━━━━━━━━━━━━━\u001b[0m\u001b[37m\u001b[0m \u001b[1m1s\u001b[0m 16ms/step - accuracy: 0.3791 - loss: 1.5797 - val_accuracy: 0.3681 - val_loss: 1.5913\n",
      "Epoch 21/130\n",
      "\u001b[1m72/72\u001b[0m \u001b[32m━━━━━━━━━━━━━━━━━━━━\u001b[0m\u001b[37m\u001b[0m \u001b[1m1s\u001b[0m 16ms/step - accuracy: 0.3745 - loss: 1.5890 - val_accuracy: 0.4062 - val_loss: 1.5238\n",
      "Epoch 22/130\n",
      "\u001b[1m72/72\u001b[0m \u001b[32m━━━━━━━━━━━━━━━━━━━━\u001b[0m\u001b[37m\u001b[0m \u001b[1m1s\u001b[0m 16ms/step - accuracy: 0.4029 - loss: 1.5232 - val_accuracy: 0.4340 - val_loss: 1.4941\n",
      "Epoch 23/130\n",
      "\u001b[1m72/72\u001b[0m \u001b[32m━━━━━━━━━━━━━━━━━━━━\u001b[0m\u001b[37m\u001b[0m \u001b[1m1s\u001b[0m 16ms/step - accuracy: 0.3985 - loss: 1.5467 - val_accuracy: 0.4132 - val_loss: 1.5048\n",
      "Epoch 24/130\n",
      "\u001b[1m72/72\u001b[0m \u001b[32m━━━━━━━━━━━━━━━━━━━━\u001b[0m\u001b[37m\u001b[0m \u001b[1m1s\u001b[0m 16ms/step - accuracy: 0.4359 - loss: 1.4789 - val_accuracy: 0.3958 - val_loss: 1.5107\n",
      "Epoch 25/130\n",
      "\u001b[1m72/72\u001b[0m \u001b[32m━━━━━━━━━━━━━━━━━━━━\u001b[0m\u001b[37m\u001b[0m \u001b[1m1s\u001b[0m 17ms/step - accuracy: 0.4214 - loss: 1.5054 - val_accuracy: 0.4167 - val_loss: 1.4671\n",
      "Epoch 26/130\n",
      "\u001b[1m72/72\u001b[0m \u001b[32m━━━━━━━━━━━━━━━━━━━━\u001b[0m\u001b[37m\u001b[0m \u001b[1m1s\u001b[0m 16ms/step - accuracy: 0.4240 - loss: 1.4624 - val_accuracy: 0.4167 - val_loss: 1.4613\n",
      "Epoch 27/130\n",
      "\u001b[1m72/72\u001b[0m \u001b[32m━━━━━━━━━━━━━━━━━━━━\u001b[0m\u001b[37m\u001b[0m \u001b[1m1s\u001b[0m 16ms/step - accuracy: 0.4437 - loss: 1.4796 - val_accuracy: 0.4375 - val_loss: 1.4436\n",
      "Epoch 28/130\n",
      "\u001b[1m72/72\u001b[0m \u001b[32m━━━━━━━━━━━━━━━━━━━━\u001b[0m\u001b[37m\u001b[0m \u001b[1m1s\u001b[0m 17ms/step - accuracy: 0.4420 - loss: 1.4239 - val_accuracy: 0.4340 - val_loss: 1.5034\n",
      "Epoch 29/130\n",
      "\u001b[1m72/72\u001b[0m \u001b[32m━━━━━━━━━━━━━━━━━━━━\u001b[0m\u001b[37m\u001b[0m \u001b[1m1s\u001b[0m 17ms/step - accuracy: 0.4631 - loss: 1.4298 - val_accuracy: 0.4653 - val_loss: 1.4203\n",
      "Epoch 30/130\n",
      "\u001b[1m72/72\u001b[0m \u001b[32m━━━━━━━━━━━━━━━━━━━━\u001b[0m\u001b[37m\u001b[0m \u001b[1m1s\u001b[0m 16ms/step - accuracy: 0.4888 - loss: 1.3788 - val_accuracy: 0.4236 - val_loss: 1.4395\n",
      "Epoch 31/130\n",
      "\u001b[1m72/72\u001b[0m \u001b[32m━━━━━━━━━━━━━━━━━━━━\u001b[0m\u001b[37m\u001b[0m \u001b[1m1s\u001b[0m 16ms/step - accuracy: 0.4805 - loss: 1.3585 - val_accuracy: 0.4375 - val_loss: 1.4169\n",
      "Epoch 32/130\n",
      "\u001b[1m72/72\u001b[0m \u001b[32m━━━━━━━━━━━━━━━━━━━━\u001b[0m\u001b[37m\u001b[0m \u001b[1m1s\u001b[0m 16ms/step - accuracy: 0.4768 - loss: 1.3328 - val_accuracy: 0.4340 - val_loss: 1.4245\n",
      "Epoch 33/130\n",
      "\u001b[1m72/72\u001b[0m \u001b[32m━━━━━━━━━━━━━━━━━━━━\u001b[0m\u001b[37m\u001b[0m \u001b[1m1s\u001b[0m 16ms/step - accuracy: 0.4883 - loss: 1.3612 - val_accuracy: 0.4444 - val_loss: 1.3808\n",
      "Epoch 34/130\n",
      "\u001b[1m72/72\u001b[0m \u001b[32m━━━━━━━━━━━━━━━━━━━━\u001b[0m\u001b[37m\u001b[0m \u001b[1m1s\u001b[0m 15ms/step - accuracy: 0.5091 - loss: 1.2764 - val_accuracy: 0.4549 - val_loss: 1.3646\n",
      "Epoch 35/130\n",
      "\u001b[1m72/72\u001b[0m \u001b[32m━━━━━━━━━━━━━━━━━━━━\u001b[0m\u001b[37m\u001b[0m \u001b[1m1s\u001b[0m 16ms/step - accuracy: 0.4976 - loss: 1.2810 - val_accuracy: 0.4653 - val_loss: 1.3463\n",
      "Epoch 36/130\n",
      "\u001b[1m72/72\u001b[0m \u001b[32m━━━━━━━━━━━━━━━━━━━━\u001b[0m\u001b[37m\u001b[0m \u001b[1m1s\u001b[0m 16ms/step - accuracy: 0.5108 - loss: 1.2716 - val_accuracy: 0.4653 - val_loss: 1.3406\n",
      "Epoch 37/130\n",
      "\u001b[1m72/72\u001b[0m \u001b[32m━━━━━━━━━━━━━━━━━━━━\u001b[0m\u001b[37m\u001b[0m \u001b[1m1s\u001b[0m 17ms/step - accuracy: 0.5464 - loss: 1.1851 - val_accuracy: 0.4688 - val_loss: 1.3320\n",
      "Epoch 38/130\n",
      "\u001b[1m72/72\u001b[0m \u001b[32m━━━━━━━━━━━━━━━━━━━━\u001b[0m\u001b[37m\u001b[0m \u001b[1m1s\u001b[0m 16ms/step - accuracy: 0.5583 - loss: 1.1685 - val_accuracy: 0.4583 - val_loss: 1.3303\n",
      "Epoch 39/130\n",
      "\u001b[1m72/72\u001b[0m \u001b[32m━━━━━━━━━━━━━━━━━━━━\u001b[0m\u001b[37m\u001b[0m \u001b[1m1s\u001b[0m 16ms/step - accuracy: 0.5531 - loss: 1.1702 - val_accuracy: 0.4861 - val_loss: 1.3228\n",
      "Epoch 40/130\n",
      "\u001b[1m72/72\u001b[0m \u001b[32m━━━━━━━━━━━━━━━━━━━━\u001b[0m\u001b[37m\u001b[0m \u001b[1m1s\u001b[0m 16ms/step - accuracy: 0.5678 - loss: 1.1451 - val_accuracy: 0.4965 - val_loss: 1.2761\n",
      "Epoch 41/130\n",
      "\u001b[1m72/72\u001b[0m \u001b[32m━━━━━━━━━━━━━━━━━━━━\u001b[0m\u001b[37m\u001b[0m \u001b[1m1s\u001b[0m 16ms/step - accuracy: 0.5576 - loss: 1.1225 - val_accuracy: 0.5035 - val_loss: 1.2133\n",
      "Epoch 42/130\n",
      "\u001b[1m72/72\u001b[0m \u001b[32m━━━━━━━━━━━━━━━━━━━━\u001b[0m\u001b[37m\u001b[0m \u001b[1m1s\u001b[0m 16ms/step - accuracy: 0.6005 - loss: 1.0755 - val_accuracy: 0.4722 - val_loss: 1.2877\n",
      "Epoch 43/130\n",
      "\u001b[1m72/72\u001b[0m \u001b[32m━━━━━━━━━━━━━━━━━━━━\u001b[0m\u001b[37m\u001b[0m \u001b[1m1s\u001b[0m 16ms/step - accuracy: 0.5999 - loss: 1.0849 - val_accuracy: 0.5486 - val_loss: 1.1625\n",
      "Epoch 44/130\n",
      "\u001b[1m72/72\u001b[0m \u001b[32m━━━━━━━━━━━━━━━━━━━━\u001b[0m\u001b[37m\u001b[0m \u001b[1m1s\u001b[0m 16ms/step - accuracy: 0.6124 - loss: 1.0376 - val_accuracy: 0.5139 - val_loss: 1.2740\n",
      "Epoch 45/130\n",
      "\u001b[1m72/72\u001b[0m \u001b[32m━━━━━━━━━━━━━━━━━━━━\u001b[0m\u001b[37m\u001b[0m \u001b[1m1s\u001b[0m 16ms/step - accuracy: 0.5941 - loss: 1.0931 - val_accuracy: 0.5243 - val_loss: 1.2551\n",
      "Epoch 46/130\n",
      "\u001b[1m72/72\u001b[0m \u001b[32m━━━━━━━━━━━━━━━━━━━━\u001b[0m\u001b[37m\u001b[0m \u001b[1m1s\u001b[0m 16ms/step - accuracy: 0.6204 - loss: 1.0023 - val_accuracy: 0.5382 - val_loss: 1.2210\n",
      "Epoch 47/130\n",
      "\u001b[1m72/72\u001b[0m \u001b[32m━━━━━━━━━━━━━━━━━━━━\u001b[0m\u001b[37m\u001b[0m \u001b[1m1s\u001b[0m 15ms/step - accuracy: 0.6260 - loss: 0.9726 - val_accuracy: 0.5486 - val_loss: 1.1852\n",
      "Epoch 48/130\n",
      "\u001b[1m72/72\u001b[0m \u001b[32m━━━━━━━━━━━━━━━━━━━━\u001b[0m\u001b[37m\u001b[0m \u001b[1m1s\u001b[0m 15ms/step - accuracy: 0.6579 - loss: 0.9275 - val_accuracy: 0.5590 - val_loss: 1.1390\n",
      "Epoch 49/130\n",
      "\u001b[1m72/72\u001b[0m \u001b[32m━━━━━━━━━━━━━━━━━━━━\u001b[0m\u001b[37m\u001b[0m \u001b[1m1s\u001b[0m 16ms/step - accuracy: 0.6578 - loss: 0.9323 - val_accuracy: 0.5625 - val_loss: 1.1475\n",
      "Epoch 50/130\n",
      "\u001b[1m72/72\u001b[0m \u001b[32m━━━━━━━━━━━━━━━━━━━━\u001b[0m\u001b[37m\u001b[0m \u001b[1m1s\u001b[0m 17ms/step - accuracy: 0.6344 - loss: 1.0003 - val_accuracy: 0.5938 - val_loss: 1.0751\n",
      "Epoch 51/130\n",
      "\u001b[1m72/72\u001b[0m \u001b[32m━━━━━━━━━━━━━━━━━━━━\u001b[0m\u001b[37m\u001b[0m \u001b[1m1s\u001b[0m 17ms/step - accuracy: 0.6757 - loss: 0.8811 - val_accuracy: 0.5903 - val_loss: 1.1043\n",
      "Epoch 52/130\n",
      "\u001b[1m72/72\u001b[0m \u001b[32m━━━━━━━━━━━━━━━━━━━━\u001b[0m\u001b[37m\u001b[0m \u001b[1m1s\u001b[0m 17ms/step - accuracy: 0.6650 - loss: 0.9288 - val_accuracy: 0.5972 - val_loss: 1.0543\n",
      "Epoch 53/130\n",
      "\u001b[1m72/72\u001b[0m \u001b[32m━━━━━━━━━━━━━━━━━━━━\u001b[0m\u001b[37m\u001b[0m \u001b[1m1s\u001b[0m 16ms/step - accuracy: 0.6940 - loss: 0.8132 - val_accuracy: 0.6146 - val_loss: 0.9922\n",
      "Epoch 54/130\n",
      "\u001b[1m72/72\u001b[0m \u001b[32m━━━━━━━━━━━━━━━━━━━━\u001b[0m\u001b[37m\u001b[0m \u001b[1m1s\u001b[0m 17ms/step - accuracy: 0.6904 - loss: 0.8325 - val_accuracy: 0.5833 - val_loss: 1.1041\n",
      "Epoch 55/130\n",
      "\u001b[1m72/72\u001b[0m \u001b[32m━━━━━━━━━━━━━━━━━━━━\u001b[0m\u001b[37m\u001b[0m \u001b[1m1s\u001b[0m 16ms/step - accuracy: 0.6828 - loss: 0.8567 - val_accuracy: 0.6319 - val_loss: 0.9416\n",
      "Epoch 56/130\n",
      "\u001b[1m72/72\u001b[0m \u001b[32m━━━━━━━━━━━━━━━━━━━━\u001b[0m\u001b[37m\u001b[0m \u001b[1m1s\u001b[0m 18ms/step - accuracy: 0.6997 - loss: 0.8117 - val_accuracy: 0.6215 - val_loss: 1.0143\n",
      "Epoch 57/130\n",
      "\u001b[1m72/72\u001b[0m \u001b[32m━━━━━━━━━━━━━━━━━━━━\u001b[0m\u001b[37m\u001b[0m \u001b[1m1s\u001b[0m 19ms/step - accuracy: 0.7020 - loss: 0.8106 - val_accuracy: 0.6319 - val_loss: 0.9540\n",
      "Epoch 58/130\n",
      "\u001b[1m72/72\u001b[0m \u001b[32m━━━━━━━━━━━━━━━━━━━━\u001b[0m\u001b[37m\u001b[0m \u001b[1m1s\u001b[0m 18ms/step - accuracy: 0.7438 - loss: 0.7429 - val_accuracy: 0.6215 - val_loss: 0.9677\n",
      "Epoch 59/130\n",
      "\u001b[1m72/72\u001b[0m \u001b[32m━━━━━━━━━━━━━━━━━━━━\u001b[0m\u001b[37m\u001b[0m \u001b[1m1s\u001b[0m 17ms/step - accuracy: 0.7177 - loss: 0.7774 - val_accuracy: 0.6597 - val_loss: 0.9305\n",
      "Epoch 60/130\n",
      "\u001b[1m72/72\u001b[0m \u001b[32m━━━━━━━━━━━━━━━━━━━━\u001b[0m\u001b[37m\u001b[0m \u001b[1m1s\u001b[0m 16ms/step - accuracy: 0.7146 - loss: 0.7585 - val_accuracy: 0.6528 - val_loss: 0.9641\n",
      "Epoch 61/130\n",
      "\u001b[1m72/72\u001b[0m \u001b[32m━━━━━━━━━━━━━━━━━━━━\u001b[0m\u001b[37m\u001b[0m \u001b[1m1s\u001b[0m 17ms/step - accuracy: 0.7481 - loss: 0.6814 - val_accuracy: 0.6910 - val_loss: 0.7954\n",
      "Epoch 62/130\n",
      "\u001b[1m72/72\u001b[0m \u001b[32m━━━━━━━━━━━━━━━━━━━━\u001b[0m\u001b[37m\u001b[0m \u001b[1m1s\u001b[0m 17ms/step - accuracy: 0.7523 - loss: 0.6655 - val_accuracy: 0.6806 - val_loss: 0.8791\n",
      "Epoch 63/130\n",
      "\u001b[1m72/72\u001b[0m \u001b[32m━━━━━━━━━━━━━━━━━━━━\u001b[0m\u001b[37m\u001b[0m \u001b[1m1s\u001b[0m 16ms/step - accuracy: 0.7756 - loss: 0.6341 - val_accuracy: 0.6771 - val_loss: 0.8422\n",
      "Epoch 64/130\n",
      "\u001b[1m72/72\u001b[0m \u001b[32m━━━━━━━━━━━━━━━━━━━━\u001b[0m\u001b[37m\u001b[0m \u001b[1m1s\u001b[0m 17ms/step - accuracy: 0.7310 - loss: 0.7380 - val_accuracy: 0.7083 - val_loss: 0.8076\n",
      "Epoch 65/130\n",
      "\u001b[1m72/72\u001b[0m \u001b[32m━━━━━━━━━━━━━━━━━━━━\u001b[0m\u001b[37m\u001b[0m \u001b[1m1s\u001b[0m 19ms/step - accuracy: 0.7553 - loss: 0.6756 - val_accuracy: 0.7396 - val_loss: 0.6976\n",
      "Epoch 66/130\n",
      "\u001b[1m72/72\u001b[0m \u001b[32m━━━━━━━━━━━━━━━━━━━━\u001b[0m\u001b[37m\u001b[0m \u001b[1m1s\u001b[0m 18ms/step - accuracy: 0.8022 - loss: 0.5456 - val_accuracy: 0.7257 - val_loss: 0.6977\n",
      "Epoch 67/130\n",
      "\u001b[1m72/72\u001b[0m \u001b[32m━━━━━━━━━━━━━━━━━━━━\u001b[0m\u001b[37m\u001b[0m \u001b[1m1s\u001b[0m 19ms/step - accuracy: 0.7832 - loss: 0.6260 - val_accuracy: 0.7014 - val_loss: 0.7721\n",
      "Epoch 68/130\n",
      "\u001b[1m72/72\u001b[0m \u001b[32m━━━━━━━━━━━━━━━━━━━━\u001b[0m\u001b[37m\u001b[0m \u001b[1m2s\u001b[0m 21ms/step - accuracy: 0.7536 - loss: 0.6623 - val_accuracy: 0.7396 - val_loss: 0.7405\n",
      "Epoch 69/130\n",
      "\u001b[1m72/72\u001b[0m \u001b[32m━━━━━━━━━━━━━━━━━━━━\u001b[0m\u001b[37m\u001b[0m \u001b[1m2s\u001b[0m 22ms/step - accuracy: 0.7990 - loss: 0.6290 - val_accuracy: 0.7188 - val_loss: 0.8257\n",
      "Epoch 70/130\n",
      "\u001b[1m72/72\u001b[0m \u001b[32m━━━━━━━━━━━━━━━━━━━━\u001b[0m\u001b[37m\u001b[0m \u001b[1m2s\u001b[0m 22ms/step - accuracy: 0.7708 - loss: 0.6380 - val_accuracy: 0.7812 - val_loss: 0.6389\n",
      "Epoch 71/130\n",
      "\u001b[1m72/72\u001b[0m \u001b[32m━━━━━━━━━━━━━━━━━━━━\u001b[0m\u001b[37m\u001b[0m \u001b[1m2s\u001b[0m 23ms/step - accuracy: 0.8145 - loss: 0.5247 - val_accuracy: 0.7049 - val_loss: 0.8497\n",
      "Epoch 72/130\n",
      "\u001b[1m72/72\u001b[0m \u001b[32m━━━━━━━━━━━━━━━━━━━━\u001b[0m\u001b[37m\u001b[0m \u001b[1m1s\u001b[0m 18ms/step - accuracy: 0.7706 - loss: 0.6614 - val_accuracy: 0.7326 - val_loss: 0.7003\n",
      "Epoch 73/130\n",
      "\u001b[1m72/72\u001b[0m \u001b[32m━━━━━━━━━━━━━━━━━━━━\u001b[0m\u001b[37m\u001b[0m \u001b[1m1s\u001b[0m 16ms/step - accuracy: 0.8195 - loss: 0.5402 - val_accuracy: 0.7847 - val_loss: 0.5694\n",
      "Epoch 74/130\n",
      "\u001b[1m72/72\u001b[0m \u001b[32m━━━━━━━━━━━━━━━━━━━━\u001b[0m\u001b[37m\u001b[0m \u001b[1m1s\u001b[0m 16ms/step - accuracy: 0.8498 - loss: 0.4310 - val_accuracy: 0.8125 - val_loss: 0.5392\n",
      "Epoch 75/130\n",
      "\u001b[1m72/72\u001b[0m \u001b[32m━━━━━━━━━━━━━━━━━━━━\u001b[0m\u001b[37m\u001b[0m \u001b[1m1s\u001b[0m 17ms/step - accuracy: 0.8564 - loss: 0.4021 - val_accuracy: 0.8090 - val_loss: 0.5493\n",
      "Epoch 76/130\n",
      "\u001b[1m72/72\u001b[0m \u001b[32m━━━━━━━━━━━━━━━━━━━━\u001b[0m\u001b[37m\u001b[0m \u001b[1m1s\u001b[0m 18ms/step - accuracy: 0.8385 - loss: 0.4566 - val_accuracy: 0.8160 - val_loss: 0.4707\n",
      "Epoch 77/130\n",
      "\u001b[1m72/72\u001b[0m \u001b[32m━━━━━━━━━━━━━━━━━━━━\u001b[0m\u001b[37m\u001b[0m \u001b[1m1s\u001b[0m 17ms/step - accuracy: 0.8703 - loss: 0.3916 - val_accuracy: 0.8125 - val_loss: 0.5303\n",
      "Epoch 78/130\n",
      "\u001b[1m72/72\u001b[0m \u001b[32m━━━━━━━━━━━━━━━━━━━━\u001b[0m\u001b[37m\u001b[0m \u001b[1m1s\u001b[0m 16ms/step - accuracy: 0.8670 - loss: 0.4032 - val_accuracy: 0.8229 - val_loss: 0.5355\n",
      "Epoch 79/130\n",
      "\u001b[1m72/72\u001b[0m \u001b[32m━━━━━━━━━━━━━━━━━━━━\u001b[0m\u001b[37m\u001b[0m \u001b[1m1s\u001b[0m 16ms/step - accuracy: 0.7980 - loss: 0.5889 - val_accuracy: 0.8090 - val_loss: 0.5217\n",
      "Epoch 80/130\n",
      "\u001b[1m72/72\u001b[0m \u001b[32m━━━━━━━━━━━━━━━━━━━━\u001b[0m\u001b[37m\u001b[0m \u001b[1m1s\u001b[0m 16ms/step - accuracy: 0.8532 - loss: 0.4392 - val_accuracy: 0.7465 - val_loss: 0.7366\n",
      "Epoch 81/130\n",
      "\u001b[1m72/72\u001b[0m \u001b[32m━━━━━━━━━━━━━━━━━━━━\u001b[0m\u001b[37m\u001b[0m \u001b[1m1s\u001b[0m 18ms/step - accuracy: 0.8216 - loss: 0.5801 - val_accuracy: 0.8542 - val_loss: 0.4492\n",
      "Epoch 82/130\n",
      "\u001b[1m72/72\u001b[0m \u001b[32m━━━━━━━━━━━━━━━━━━━━\u001b[0m\u001b[37m\u001b[0m \u001b[1m2s\u001b[0m 20ms/step - accuracy: 0.8776 - loss: 0.3518 - val_accuracy: 0.8611 - val_loss: 0.4665\n",
      "Epoch 83/130\n",
      "\u001b[1m72/72\u001b[0m \u001b[32m━━━━━━━━━━━━━━━━━━━━\u001b[0m\u001b[37m\u001b[0m \u001b[1m2s\u001b[0m 21ms/step - accuracy: 0.8704 - loss: 0.3913 - val_accuracy: 0.8681 - val_loss: 0.3597\n",
      "Epoch 84/130\n",
      "\u001b[1m72/72\u001b[0m \u001b[32m━━━━━━━━━━━━━━━━━━━━\u001b[0m\u001b[37m\u001b[0m \u001b[1m2s\u001b[0m 21ms/step - accuracy: 0.8794 - loss: 0.3654 - val_accuracy: 0.8819 - val_loss: 0.3734\n",
      "Epoch 85/130\n",
      "\u001b[1m72/72\u001b[0m \u001b[32m━━━━━━━━━━━━━━━━━━━━\u001b[0m\u001b[37m\u001b[0m \u001b[1m1s\u001b[0m 19ms/step - accuracy: 0.9052 - loss: 0.2984 - val_accuracy: 0.8924 - val_loss: 0.3333\n",
      "Epoch 86/130\n",
      "\u001b[1m72/72\u001b[0m \u001b[32m━━━━━━━━━━━━━━━━━━━━\u001b[0m\u001b[37m\u001b[0m \u001b[1m1s\u001b[0m 17ms/step - accuracy: 0.9122 - loss: 0.2744 - val_accuracy: 0.8854 - val_loss: 0.3645\n",
      "Epoch 87/130\n",
      "\u001b[1m72/72\u001b[0m \u001b[32m━━━━━━━━━━━━━━━━━━━━\u001b[0m\u001b[37m\u001b[0m \u001b[1m1s\u001b[0m 17ms/step - accuracy: 0.8811 - loss: 0.3982 - val_accuracy: 0.8507 - val_loss: 0.4365\n",
      "Epoch 88/130\n",
      "\u001b[1m72/72\u001b[0m \u001b[32m━━━━━━━━━━━━━━━━━━━━\u001b[0m\u001b[37m\u001b[0m \u001b[1m1s\u001b[0m 16ms/step - accuracy: 0.8503 - loss: 0.4938 - val_accuracy: 0.8472 - val_loss: 0.4148\n",
      "Epoch 89/130\n",
      "\u001b[1m72/72\u001b[0m \u001b[32m━━━━━━━━━━━━━━━━━━━━\u001b[0m\u001b[37m\u001b[0m \u001b[1m1s\u001b[0m 16ms/step - accuracy: 0.8694 - loss: 0.4349 - val_accuracy: 0.8507 - val_loss: 0.4137\n",
      "Epoch 90/130\n",
      "\u001b[1m72/72\u001b[0m \u001b[32m━━━━━━━━━━━━━━━━━━━━\u001b[0m\u001b[37m\u001b[0m \u001b[1m1s\u001b[0m 16ms/step - accuracy: 0.8829 - loss: 0.3551 - val_accuracy: 0.8889 - val_loss: 0.3069\n",
      "Epoch 91/130\n",
      "\u001b[1m72/72\u001b[0m \u001b[32m━━━━━━━━━━━━━━━━━━━━\u001b[0m\u001b[37m\u001b[0m \u001b[1m1s\u001b[0m 17ms/step - accuracy: 0.9086 - loss: 0.2807 - val_accuracy: 0.9271 - val_loss: 0.2338\n",
      "Epoch 92/130\n",
      "\u001b[1m72/72\u001b[0m \u001b[32m━━━━━━━━━━━━━━━━━━━━\u001b[0m\u001b[37m\u001b[0m \u001b[1m1s\u001b[0m 17ms/step - accuracy: 0.8819 - loss: 0.3671 - val_accuracy: 0.8611 - val_loss: 0.4722\n",
      "Epoch 93/130\n",
      "\u001b[1m72/72\u001b[0m \u001b[32m━━━━━━━━━━━━━━━━━━━━\u001b[0m\u001b[37m\u001b[0m \u001b[1m1s\u001b[0m 16ms/step - accuracy: 0.8720 - loss: 0.4260 - val_accuracy: 0.8750 - val_loss: 0.3514\n",
      "Epoch 94/130\n",
      "\u001b[1m72/72\u001b[0m \u001b[32m━━━━━━━━━━━━━━━━━━━━\u001b[0m\u001b[37m\u001b[0m \u001b[1m1s\u001b[0m 17ms/step - accuracy: 0.9211 - loss: 0.2517 - val_accuracy: 0.9410 - val_loss: 0.2341\n",
      "Epoch 95/130\n",
      "\u001b[1m72/72\u001b[0m \u001b[32m━━━━━━━━━━━━━━━━━━━━\u001b[0m\u001b[37m\u001b[0m \u001b[1m1s\u001b[0m 17ms/step - accuracy: 0.9250 - loss: 0.2363 - val_accuracy: 0.8750 - val_loss: 0.4733\n",
      "Epoch 96/130\n",
      "\u001b[1m72/72\u001b[0m \u001b[32m━━━━━━━━━━━━━━━━━━━━\u001b[0m\u001b[37m\u001b[0m \u001b[1m1s\u001b[0m 19ms/step - accuracy: 0.8295 - loss: 0.7536 - val_accuracy: 0.7812 - val_loss: 0.7854\n",
      "Epoch 97/130\n",
      "\u001b[1m72/72\u001b[0m \u001b[32m━━━━━━━━━━━━━━━━━━━━\u001b[0m\u001b[37m\u001b[0m \u001b[1m1s\u001b[0m 18ms/step - accuracy: 0.8780 - loss: 0.3910 - val_accuracy: 0.8819 - val_loss: 0.3962\n",
      "Epoch 98/130\n",
      "\u001b[1m72/72\u001b[0m \u001b[32m━━━━━━━━━━━━━━━━━━━━\u001b[0m\u001b[37m\u001b[0m \u001b[1m1s\u001b[0m 18ms/step - accuracy: 0.9286 - loss: 0.2540 - val_accuracy: 0.9097 - val_loss: 0.2751\n",
      "Epoch 99/130\n",
      "\u001b[1m72/72\u001b[0m \u001b[32m━━━━━━━━━━━━━━━━━━━━\u001b[0m\u001b[37m\u001b[0m \u001b[1m1s\u001b[0m 18ms/step - accuracy: 0.9195 - loss: 0.2469 - val_accuracy: 0.8889 - val_loss: 0.2868\n",
      "Epoch 100/130\n",
      "\u001b[1m72/72\u001b[0m \u001b[32m━━━━━━━━━━━━━━━━━━━━\u001b[0m\u001b[37m\u001b[0m \u001b[1m1s\u001b[0m 17ms/step - accuracy: 0.9285 - loss: 0.2064 - val_accuracy: 0.9340 - val_loss: 0.2146\n",
      "Epoch 101/130\n",
      "\u001b[1m72/72\u001b[0m \u001b[32m━━━━━━━━━━━━━━━━━━━━\u001b[0m\u001b[37m\u001b[0m \u001b[1m1s\u001b[0m 17ms/step - accuracy: 0.9480 - loss: 0.1748 - val_accuracy: 0.9375 - val_loss: 0.2259\n",
      "Epoch 102/130\n",
      "\u001b[1m72/72\u001b[0m \u001b[32m━━━━━━━━━━━━━━━━━━━━\u001b[0m\u001b[37m\u001b[0m \u001b[1m1s\u001b[0m 16ms/step - accuracy: 0.9600 - loss: 0.1475 - val_accuracy: 0.9201 - val_loss: 0.2264\n",
      "Epoch 103/130\n",
      "\u001b[1m72/72\u001b[0m \u001b[32m━━━━━━━━━━━━━━━━━━━━\u001b[0m\u001b[37m\u001b[0m \u001b[1m1s\u001b[0m 17ms/step - accuracy: 0.9378 - loss: 0.1833 - val_accuracy: 0.9722 - val_loss: 0.1391\n",
      "Epoch 104/130\n",
      "\u001b[1m72/72\u001b[0m \u001b[32m━━━━━━━━━━━━━━━━━━━━\u001b[0m\u001b[37m\u001b[0m \u001b[1m1s\u001b[0m 17ms/step - accuracy: 0.9416 - loss: 0.2220 - val_accuracy: 0.8889 - val_loss: 0.3331\n",
      "Epoch 105/130\n",
      "\u001b[1m72/72\u001b[0m \u001b[32m━━━━━━━━━━━━━━━━━━━━\u001b[0m\u001b[37m\u001b[0m \u001b[1m1s\u001b[0m 18ms/step - accuracy: 0.8693 - loss: 0.4806 - val_accuracy: 0.8958 - val_loss: 0.4250\n",
      "Epoch 106/130\n",
      "\u001b[1m72/72\u001b[0m \u001b[32m━━━━━━━━━━━━━━━━━━━━\u001b[0m\u001b[37m\u001b[0m \u001b[1m1s\u001b[0m 19ms/step - accuracy: 0.8749 - loss: 0.3716 - val_accuracy: 0.9479 - val_loss: 0.1862\n",
      "Epoch 107/130\n",
      "\u001b[1m72/72\u001b[0m \u001b[32m━━━━━━━━━━━━━━━━━━━━\u001b[0m\u001b[37m\u001b[0m \u001b[1m1s\u001b[0m 19ms/step - accuracy: 0.9430 - loss: 0.1981 - val_accuracy: 0.9479 - val_loss: 0.1678\n",
      "Epoch 108/130\n",
      "\u001b[1m72/72\u001b[0m \u001b[32m━━━━━━━━━━━━━━━━━━━━\u001b[0m\u001b[37m\u001b[0m \u001b[1m1s\u001b[0m 18ms/step - accuracy: 0.9491 - loss: 0.1635 - val_accuracy: 0.9583 - val_loss: 0.1308\n",
      "Epoch 109/130\n",
      "\u001b[1m72/72\u001b[0m \u001b[32m━━━━━━━━━━━━━━━━━━━━\u001b[0m\u001b[37m\u001b[0m \u001b[1m1s\u001b[0m 19ms/step - accuracy: 0.9563 - loss: 0.1434 - val_accuracy: 0.9236 - val_loss: 0.2487\n",
      "Epoch 110/130\n",
      "\u001b[1m72/72\u001b[0m \u001b[32m━━━━━━━━━━━━━━━━━━━━\u001b[0m\u001b[37m\u001b[0m \u001b[1m1s\u001b[0m 18ms/step - accuracy: 0.9105 - loss: 0.2958 - val_accuracy: 0.9340 - val_loss: 0.2683\n",
      "Epoch 111/130\n",
      "\u001b[1m72/72\u001b[0m \u001b[32m━━━━━━━━━━━━━━━━━━━━\u001b[0m\u001b[37m\u001b[0m \u001b[1m1s\u001b[0m 17ms/step - accuracy: 0.9358 - loss: 0.2196 - val_accuracy: 0.9549 - val_loss: 0.1811\n",
      "Epoch 112/130\n",
      "\u001b[1m72/72\u001b[0m \u001b[32m━━━━━━━━━━━━━━━━━━━━\u001b[0m\u001b[37m\u001b[0m \u001b[1m1s\u001b[0m 17ms/step - accuracy: 0.9491 - loss: 0.2278 - val_accuracy: 0.9549 - val_loss: 0.1639\n",
      "Epoch 113/130\n",
      "\u001b[1m72/72\u001b[0m \u001b[32m━━━━━━━━━━━━━━━━━━━━\u001b[0m\u001b[37m\u001b[0m \u001b[1m1s\u001b[0m 18ms/step - accuracy: 0.9447 - loss: 0.1797 - val_accuracy: 0.9271 - val_loss: 0.2196\n",
      "Epoch 114/130\n",
      "\u001b[1m72/72\u001b[0m \u001b[32m━━━━━━━━━━━━━━━━━━━━\u001b[0m\u001b[37m\u001b[0m \u001b[1m1s\u001b[0m 17ms/step - accuracy: 0.9286 - loss: 0.2494 - val_accuracy: 0.9167 - val_loss: 0.3452\n",
      "Epoch 115/130\n",
      "\u001b[1m72/72\u001b[0m \u001b[32m━━━━━━━━━━━━━━━━━━━━\u001b[0m\u001b[37m\u001b[0m \u001b[1m1s\u001b[0m 17ms/step - accuracy: 0.9184 - loss: 0.3099 - val_accuracy: 0.8646 - val_loss: 0.4911\n",
      "Epoch 116/130\n",
      "\u001b[1m72/72\u001b[0m \u001b[32m━━━━━━━━━━━━━━━━━━━━\u001b[0m\u001b[37m\u001b[0m \u001b[1m1s\u001b[0m 19ms/step - accuracy: 0.8553 - loss: 0.6096 - val_accuracy: 0.9097 - val_loss: 0.3920\n",
      "Epoch 117/130\n",
      "\u001b[1m72/72\u001b[0m \u001b[32m━━━━━━━━━━━━━━━━━━━━\u001b[0m\u001b[37m\u001b[0m \u001b[1m1s\u001b[0m 17ms/step - accuracy: 0.9028 - loss: 0.3418 - val_accuracy: 0.9132 - val_loss: 0.3387\n",
      "Epoch 118/130\n",
      "\u001b[1m72/72\u001b[0m \u001b[32m━━━━━━━━━━━━━━━━━━━━\u001b[0m\u001b[37m\u001b[0m \u001b[1m1s\u001b[0m 17ms/step - accuracy: 0.9131 - loss: 0.3048 - val_accuracy: 0.9514 - val_loss: 0.1927\n",
      "Epoch 119/130\n",
      "\u001b[1m72/72\u001b[0m \u001b[32m━━━━━━━━━━━━━━━━━━━━\u001b[0m\u001b[37m\u001b[0m \u001b[1m1s\u001b[0m 17ms/step - accuracy: 0.9506 - loss: 0.1871 - val_accuracy: 0.9722 - val_loss: 0.1258\n",
      "Epoch 120/130\n",
      "\u001b[1m72/72\u001b[0m \u001b[32m━━━━━━━━━━━━━━━━━━━━\u001b[0m\u001b[37m\u001b[0m \u001b[1m1s\u001b[0m 18ms/step - accuracy: 0.9440 - loss: 0.2410 - val_accuracy: 0.9653 - val_loss: 0.1218\n",
      "Epoch 121/130\n",
      "\u001b[1m72/72\u001b[0m \u001b[32m━━━━━━━━━━━━━━━━━━━━\u001b[0m\u001b[37m\u001b[0m \u001b[1m1s\u001b[0m 18ms/step - accuracy: 0.9566 - loss: 0.1540 - val_accuracy: 0.9896 - val_loss: 0.0646\n",
      "Epoch 122/130\n",
      "\u001b[1m72/72\u001b[0m \u001b[32m━━━━━━━━━━━━━━━━━━━━\u001b[0m\u001b[37m\u001b[0m \u001b[1m1s\u001b[0m 18ms/step - accuracy: 0.9664 - loss: 0.1116 - val_accuracy: 0.9861 - val_loss: 0.0637\n",
      "Epoch 123/130\n",
      "\u001b[1m72/72\u001b[0m \u001b[32m━━━━━━━━━━━━━━━━━━━━\u001b[0m\u001b[37m\u001b[0m \u001b[1m1s\u001b[0m 17ms/step - accuracy: 0.9732 - loss: 0.0885 - val_accuracy: 0.9826 - val_loss: 0.0530\n",
      "Epoch 124/130\n",
      "\u001b[1m72/72\u001b[0m \u001b[32m━━━━━━━━━━━━━━━━━━━━\u001b[0m\u001b[37m\u001b[0m \u001b[1m1s\u001b[0m 16ms/step - accuracy: 0.9746 - loss: 0.1062 - val_accuracy: 0.9792 - val_loss: 0.0599\n",
      "Epoch 125/130\n",
      "\u001b[1m72/72\u001b[0m \u001b[32m━━━━━━━━━━━━━━━━━━━━\u001b[0m\u001b[37m\u001b[0m \u001b[1m1s\u001b[0m 17ms/step - accuracy: 0.9544 - loss: 0.1428 - val_accuracy: 0.9340 - val_loss: 0.1840\n",
      "Epoch 126/130\n",
      "\u001b[1m72/72\u001b[0m \u001b[32m━━━━━━━━━━━━━━━━━━━━\u001b[0m\u001b[37m\u001b[0m \u001b[1m1s\u001b[0m 17ms/step - accuracy: 0.9577 - loss: 0.1525 - val_accuracy: 0.9653 - val_loss: 0.1477\n",
      "Epoch 127/130\n",
      "\u001b[1m72/72\u001b[0m \u001b[32m━━━━━━━━━━━━━━━━━━━━\u001b[0m\u001b[37m\u001b[0m \u001b[1m1s\u001b[0m 16ms/step - accuracy: 0.9581 - loss: 0.1310 - val_accuracy: 0.9896 - val_loss: 0.0937\n",
      "Epoch 128/130\n",
      "\u001b[1m72/72\u001b[0m \u001b[32m━━━━━━━━━━━━━━━━━━━━\u001b[0m\u001b[37m\u001b[0m \u001b[1m1s\u001b[0m 16ms/step - accuracy: 0.9600 - loss: 0.1122 - val_accuracy: 0.9792 - val_loss: 0.0769\n",
      "Epoch 129/130\n",
      "\u001b[1m72/72\u001b[0m \u001b[32m━━━━━━━━━━━━━━━━━━━━\u001b[0m\u001b[37m\u001b[0m \u001b[1m1s\u001b[0m 17ms/step - accuracy: 0.9633 - loss: 0.1239 - val_accuracy: 0.9583 - val_loss: 0.2492\n",
      "Epoch 130/130\n",
      "\u001b[1m72/72\u001b[0m \u001b[32m━━━━━━━━━━━━━━━━━━━━\u001b[0m\u001b[37m\u001b[0m \u001b[1m1s\u001b[0m 16ms/step - accuracy: 0.9667 - loss: 0.1483 - val_accuracy: 0.9618 - val_loss: 0.1356\n"
     ]
    }
   ],
   "source": [
    "model_A = create_model_LSTM()\n",
    "history = model_A.fit(w, y_cat[:training_samples], validation_data=(np.expand_dims(X[training_samples: training_samples+validation_samples], -1),y_cat[training_samples: training_samples+validation_samples]), epochs=130, shuffle=True)"
   ]
  },
  {
   "cell_type": "markdown",
   "id": "bb3bf8c7-1d41-464b-83c9-9926ceee4d62",
   "metadata": {},
   "source": [
    "### Model Evaluation\n",
    "\n",
    "After training, the model is evaluated on the test set to determine its final accuracy. The test accuracy provides an indication of how well the model generalizes to unseen data."
   ]
  },
  {
   "cell_type": "code",
   "execution_count": 85,
   "id": "74caa6ca-d114-4d23-bf42-a80728f81ae8",
   "metadata": {},
   "outputs": [
    {
     "name": "stdout",
     "output_type": "stream",
     "text": [
      "\u001b[1m81/81\u001b[0m \u001b[32m━━━━━━━━━━━━━━━━━━━━\u001b[0m\u001b[37m\u001b[0m \u001b[1m1s\u001b[0m 12ms/step - accuracy: 0.9899 - loss: 0.0427\n",
      "Evaluation Metrics:\n",
      "Loss: 0.05488839000463486\n",
      "Accuracy: 0.9868826866149902\n",
      "\u001b[1m18/18\u001b[0m \u001b[32m━━━━━━━━━━━━━━━━━━━━\u001b[0m\u001b[37m\u001b[0m \u001b[1m1s\u001b[0m 12ms/step\n",
      "True label: 5, Predicted label: 2\n",
      "True label: 2, Predicted label: 2\n",
      "True label: 3, Predicted label: 3\n",
      "True label: 1, Predicted label: 1\n",
      "True label: 1, Predicted label: 1\n",
      "True label: 1, Predicted label: 1\n",
      "True label: 7, Predicted label: 7\n",
      "True label: 0, Predicted label: 0\n",
      "True label: 3, Predicted label: 3\n",
      "True label: 2, Predicted label: 2\n"
     ]
    }
   ],
   "source": [
    "\n",
    "\n",
    "# Evaluation on test data\n",
    "evaluation = model_A.evaluate(\n",
    "    np.expand_dims(X[test_samples:], -1),  # Test data (assuming X is your test data)\n",
    "    y_cat[test_samples:],  # Test labels in categorical format (assuming y_cat is your test labels)\n",
    ")\n",
    "\n",
    "# Printing evaluation metrics\n",
    "print(\"Evaluation Metrics:\")\n",
    "print(\"Loss:\", evaluation[0])\n",
    "print(\"Accuracy:\", evaluation[1])\n",
    "\n",
    "predictions = model_A.predict(X_test)\n",
    "predicted_labels = np.argmax(predictions, axis=1)\n",
    "true_labels = np.argmax(y_test, axis=1)\n",
    "\n",
    "# Print some predictions\n",
    "for i in range(10):\n",
    "    print(f\"True label: {true_labels[i]}, Predicted label: {predicted_labels[i]}\")\n"
   ]
  },
  {
   "cell_type": "markdown",
   "id": "afb7c218-949d-4729-9beb-63516a267d7e",
   "metadata": {},
   "source": [
    "\n",
    "# Model Training and Test Accuracy\n",
    "\n",
    "The following plot shows the accuracy of the Conv1D model over 100 epochs for both the training and test datasets.\n",
    "\n",
    "![Model Accuracy](file-wz1q1aYBQZ0yAF08sdfCyndt)\n",
    "\n",
    "\n",
    "\n",
    "\n"
   ]
  },
  {
   "cell_type": "code",
   "execution_count": 88,
   "id": "0c09a48c-9541-48b7-a14d-255d02d6feb4",
   "metadata": {},
   "outputs": [
    {
     "data": {
      "text/plain": [
       "<matplotlib.legend.Legend at 0x1e6e7111350>"
      ]
     },
     "execution_count": 88,
     "metadata": {},
     "output_type": "execute_result"
    },
    {
     "data": {
      "image/png": "[encoded data removed]",
      "text/plain": [
       "<Figure size 1200x400 with 1 Axes>"
      ]
     },
     "metadata": {},
     "output_type": "display_data"
    }
   ],
   "source": [
    "plt.figure(figsize=(12, 4))\n",
    "plt.subplot(1, 2, 1)\n",
    "plt.plot(history.history['accuracy'])\n",
    "plt.plot(history.history['val_accuracy'])\n",
    "plt.title('Model accuracy')\n",
    "plt.ylabel('Accuracy')\n",
    "plt.xlabel('Epoch')\n",
    "plt.legend(['Train', 'Test'], loc='upper left')"
   ]
  },
  {
   "cell_type": "markdown",
   "id": "617d7de2-cf38-4b87-a94e-8a1f6c406c37",
   "metadata": {},
   "source": [
    "## Description\n",
    "\n",
    "- **X-axis (Epoch)**: Represents the number of epochs, ranging from 0 to 130\n",
    "- **Y-axis (Accuracy)**: Represents accuracy, ranging from 0 to 1.0.\n",
    "\n",
    "## Observations\n",
    "\n",
    "- **Training Accuracy (Blue Line)**: The 'Train' accuracy line shows a consistent increase over epochs, indicating continuous improvement in performance on the training data.\n",
    "- **Test Accuracy (Orange Line)**: The 'Test' accuracy line fluctuates but generally follows the upward trend of the 'Train' line. This suggests that the model's performance on unseen test data also improves over epochs, with some variability."
   ]
  },
  {
   "cell_type": "markdown",
   "id": "476b3c27-8d4a-4e89-846f-513824e987cb",
   "metadata": {},
   "source": [
    "# Confusion Matrix\n",
    "\n",
    "The following plot shows the confusion matrix for the Conv1D model's predictions on the test dataset.\n",
    "\n",
    "![Confusion Matrix](file-3V9Hv2ysyiFrPzotIsExjBK1)"
   ]
  },
  {
   "cell_type": "code",
   "execution_count": 91,
   "id": "1a149853-2e28-4a36-92a6-ca4f1312bd2c",
   "metadata": {},
   "outputs": [
    {
     "data": {
      "image/png": "[encoded data removed]",
      "text/plain": [
       "<Figure size 640x480 with 2 Axes>"
      ]
     },
     "metadata": {},
     "output_type": "display_data"
    }
   ],
   "source": [
    "\n",
    "# Compute confusion matrix\n",
    "conf_matrix = confusion_matrix(true_labels, predicted_labels)\n",
    "sns.heatmap(conf_matrix, annot=True, fmt=\"d\", cmap=\"Blues\", xticklabels=label_encoder.classes_, yticklabels=label_encoder.classes_)\n",
    "plt.ylabel('Actual')\n",
    "plt.xlabel('Predicted')\n",
    "plt.show()\n"
   ]
  },
  {
   "cell_type": "markdown",
   "id": "7042688c-5e80-412b-a2f1-9cb5c62b9281",
   "metadata": {},
   "source": [
    "\n",
    "\n",
    "### Description\n",
    "\n",
    "- **X-axis (Predicted)**: Represents the predicted emotion labels by the model.\n",
    "- **Y-axis (Actual)**: Represents the actual emotion labels.\n",
    "- **Color Scale**: The intensity of the color represents the number of instances classified in each category, with darker colors indicating a higher number of instances.\n",
    "\n",
    "### Emotion Labels\n",
    "The numerical labels correspond to the following emotions:\n",
    "- 0: Neutral\n",
    "- 1: Calm\n",
    "- 2: Happy\n",
    "- 3: Sad\n",
    "- 4: Angry\n",
    "- 5: Fearful\n",
    "- 6: Disgust\n",
    "- 7: Surprised\n",
    "\n",
    "### Observations\n",
    "\n",
    "- **High Accuracy**: Most predictions are concentrated along the diagonal, indicating correct classifications.\n",
    "- **Misclassifications**: Some off-diagonal elements show misclassifications, such as a few instances where 'Neutral' is predicted as 'Calm' or 'Happy'.\n",
    "- **Confusion**: Specific emotions like 'Sad' and 'Angry' show some level of confusion with other emotions, as indicated by the lighter cells off the diagonal.\n",
    "\n",
    "### Conclusion\n",
    "\n",
    "The confusion matrix indicates that the Conv1D model performs well in classifying most of the emotions correctly, with a high number of correct predictions for 'Neutral', 'Sad', and 'Angry'. Some emotions like 'Calm' and 'Happy' have slight confusion with other emotions, but overall, the model demonstrates strong performance in emotion recognition."
   ]
  },
  {
   "cell_type": "code",
   "execution_count": 57,
   "id": "989966bb-a2b4-48b9-b2b6-c6f4e9a6fb61",
   "metadata": {},
   "outputs": [],
   "source": [
    "model.save('emotion_recognition_model_LSTM.keras')"
   ]
  },
  {
   "cell_type": "code",
   "execution_count": null,
   "id": "f4596afd-1c4a-4dfe-8dd5-7d8c907e9737",
   "metadata": {},
   "outputs": [],
   "source": []
  }
 ],
 "metadata": {
  "kernelspec": {
   "display_name": "Python 3 (ipykernel)",
   "language": "python",
   "name": "python3"
  },
  "language_info": {
   "codemirror_mode": {
    "name": "ipython",
    "version": 3
   },
   "file_extension": ".py",
   "mimetype": "text/x-python",
   "name": "python",
   "nbconvert_exporter": "python",
   "pygments_lexer": "ipython3",
   "version": "3.11.7"
  }
 },
 "nbformat": 4,
 "nbformat_minor": 5
}
